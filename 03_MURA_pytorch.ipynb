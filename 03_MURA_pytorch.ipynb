{
  "nbformat": 4,
  "nbformat_minor": 0,
  "metadata": {
    "colab": {
      "name": "03_MURA_pytorch.ipynb",
      "provenance": [],
      "collapsed_sections": []
    },
    "kernelspec": {
      "name": "python3",
      "display_name": "Python 3"
    },
    "accelerator": "GPU"
  },
  "cells": [
    {
      "cell_type": "markdown",
      "metadata": {
        "id": "iaidj5SSJ1zU",
        "colab_type": "text"
      },
      "source": [
        "# MURA, Abnormal X-ray Classification, Stanford\n",
        "\n",
        "MURA is a dataset of bone X-rays that allows to create models that find abnormalities. "
      ]
    },
    {
      "cell_type": "markdown",
      "metadata": {
        "id": "rwFMEBk3KFKM",
        "colab_type": "text"
      },
      "source": [
        "## What is MURA?\n",
        "MURA (**MU**sculoskeletal **RA**diographs) is a large dataset of bone X-rays that allows to create models that determines whether an X-ray study is normal or abnormal (we could use as well this dataset to classify bones into the categories shoulder, humerus, elbow, forearm, wrist, hand, and finger). MURA is one of the largest public radiographic image datasets.\n",
        "\n",
        "https://cs.stanford.edu/group/mlgroup/MURA-v1.1.zip"
      ]
    },
    {
      "cell_type": "code",
      "metadata": {
        "id": "jQTHs_EBJgG1",
        "colab_type": "code",
        "outputId": "11a7ebba-6a68-46a9-c647-c0d22cda49b2",
        "colab": {
          "base_uri": "https://localhost:8080/",
          "height": 127
        }
      },
      "source": [
        "from google.colab import drive\n",
        "drive.mount('/content/gdrive', force_remount=True)\n",
        "root_dir = \"/content/gdrive/My Drive/\"\n",
        "base_dir = root_dir + 'fastai-v3/'"
      ],
      "execution_count": 0,
      "outputs": [
        {
          "output_type": "stream",
          "text": [
            "Go to this URL in a browser: https://accounts.google.com/o/oauth2/auth?client_id=947318989803-6bn6qk8qdgf4n4g3pfee6491hc0brc4i.apps.googleusercontent.com&redirect_uri=urn%3aietf%3awg%3aoauth%3a2.0%3aoob&response_type=code&scope=email%20https%3a%2f%2fwww.googleapis.com%2fauth%2fdocs.test%20https%3a%2f%2fwww.googleapis.com%2fauth%2fdrive%20https%3a%2f%2fwww.googleapis.com%2fauth%2fdrive.photos.readonly%20https%3a%2f%2fwww.googleapis.com%2fauth%2fpeopleapi.readonly\n",
            "\n",
            "Enter your authorization code:\n",
            "··········\n",
            "Mounted at /content/gdrive\n"
          ],
          "name": "stdout"
        }
      ]
    },
    {
      "cell_type": "code",
      "metadata": {
        "id": "JbIY_tS3KweT",
        "colab_type": "code",
        "colab": {}
      },
      "source": [
        "%reload_ext autoreload\n",
        "%autoreload 2\n",
        "%matplotlib inline"
      ],
      "execution_count": 0,
      "outputs": []
    },
    {
      "cell_type": "markdown",
      "metadata": {
        "id": "l9EUzZdeLK04",
        "colab_type": "text"
      },
      "source": [
        "## Libraries "
      ]
    },
    {
      "cell_type": "code",
      "metadata": {
        "id": "sV35R4iiLGWZ",
        "colab_type": "code",
        "colab": {}
      },
      "source": [
        "import os \n",
        "import zipfile\n",
        "\n",
        "import numpy as np\n",
        "import pandas as pd \n",
        "import matplotlib.pyplot as plt\n",
        "%matplotlib inline\n",
        "\n",
        "from glob import glob"
      ],
      "execution_count": 0,
      "outputs": []
    },
    {
      "cell_type": "code",
      "metadata": {
        "id": "ZSdoToR3QO39",
        "colab_type": "code",
        "colab": {}
      },
      "source": [
        "from fastai.vision import *\n",
        "from fastai.widgets import *\n",
        "\n",
        "from fastai.callbacks import *\n",
        "import fastai"
      ],
      "execution_count": 0,
      "outputs": []
    },
    {
      "cell_type": "code",
      "metadata": {
        "id": "7gRqatbRLYVe",
        "colab_type": "code",
        "outputId": "6256e188-e191-4ce0-f782-946e61c37147",
        "colab": {
          "base_uri": "https://localhost:8080/",
          "height": 53
        }
      },
      "source": [
        "import torch \n",
        "import torchvision \n",
        "\n",
        "# for dataset \n",
        "from torch.utils.data import DataLoader\n",
        "from torchvision import datasets, models, transforms\n",
        "from torchvision.utils import make_grid\n",
        "import matplotlib.pyplot as plt\n",
        "import numpy as np\n",
        "% matplotlib inline\n",
        "\n",
        "# for model \n",
        "import torch.nn as nn\n",
        "import torch.optim as optim\n",
        "\n",
        "import shutil\n",
        "import gc\n",
        "\n",
        "print('Ver. Pytorch: ', torch.__version__)\n",
        "print('CUDA: ', torch.cuda.is_available())"
      ],
      "execution_count": 0,
      "outputs": [
        {
          "output_type": "stream",
          "text": [
            "Ver. Pytorch:  1.3.1\n",
            "CUDA:  True\n"
          ],
          "name": "stdout"
        }
      ]
    },
    {
      "cell_type": "markdown",
      "metadata": {
        "id": "zxsXn0MMMUe7",
        "colab_type": "text"
      },
      "source": [
        "## Data"
      ]
    },
    {
      "cell_type": "markdown",
      "metadata": {
        "id": "RJo8icVONAYL",
        "colab_type": "text"
      },
      "source": [
        "### Download and Set a data path"
      ]
    },
    {
      "cell_type": "code",
      "metadata": {
        "id": "pQ3xelDUL0mp",
        "colab_type": "code",
        "outputId": "d0d92505-2829-4885-8fda-7a194fad05fd",
        "colab": {
          "base_uri": "https://localhost:8080/",
          "height": 215
        }
      },
      "source": [
        "!wget \\\n",
        "  htps://cs.stanford.edu/group/mlgroup/MURA-v1.1.zip \\\n",
        "  -O /tmp/MURA.zip"
      ],
      "execution_count": 0,
      "outputs": [
        {
          "output_type": "stream",
          "text": [
            "--2020-01-03 02:25:48--  https://cs.stanford.edu/group/mlgroup/MURA-v1.1.zip\n",
            "Resolving cs.stanford.edu (cs.stanford.edu)... 171.64.64.64\n",
            "Connecting to cs.stanford.edu (cs.stanford.edu)|171.64.64.64|:443... connected.\n",
            "HTTP request sent, awaiting response... 200 OK\n",
            "Length: 3380245855 (3.1G) [application/zip]\n",
            "Saving to: ‘/tmp/MURA.zip’\n",
            "\n",
            "/tmp/MURA.zip       100%[===================>]   3.15G  14.9MB/s    in 3m 47s  \n",
            "\n",
            "2020-01-03 02:29:36 (14.2 MB/s) - ‘/tmp/MURA.zip’ saved [3380245855/3380245855]\n",
            "\n"
          ],
          "name": "stdout"
        }
      ]
    },
    {
      "cell_type": "code",
      "metadata": {
        "id": "_-kmlYmBMmM6",
        "colab_type": "code",
        "outputId": "fcbce27e-086e-4f9b-a266-a6fafe3766e2",
        "colab": {
          "base_uri": "https://localhost:8080/",
          "height": 35
        }
      },
      "source": [
        "os.listdir('/tmp')"
      ],
      "execution_count": 0,
      "outputs": [
        {
          "output_type": "execute_result",
          "data": {
            "text/plain": [
              "['drivefs_ipc.0', 'MURA.zip', 'drivefs_ipc.0_shell', 'tmpexmzd2ks']"
            ]
          },
          "metadata": {
            "tags": []
          },
          "execution_count": 6
        }
      ]
    },
    {
      "cell_type": "code",
      "metadata": {
        "id": "3GYKetyyNwv2",
        "colab_type": "code",
        "colab": {}
      },
      "source": [
        "local_zip = '/tmp/MURA.zip'\n",
        "zip_ref = zipfile.ZipFile(local_zip, 'r')\n",
        "zip_ref.extractall('/tmp')\n",
        "zip_ref.close()"
      ],
      "execution_count": 0,
      "outputs": []
    },
    {
      "cell_type": "code",
      "metadata": {
        "id": "cPAeQCf4OKL3",
        "colab_type": "code",
        "colab": {}
      },
      "source": [
        "path = '/tmp/MURA-v1.1/'"
      ],
      "execution_count": 0,
      "outputs": []
    },
    {
      "cell_type": "code",
      "metadata": {
        "id": "eTO_9hNWOfgf",
        "colab_type": "code",
        "outputId": "35a66b90-9c61-4eb5-c0fe-59bf3a7b6e8e",
        "colab": {
          "base_uri": "https://localhost:8080/",
          "height": 125
        }
      },
      "source": [
        "os.listdir(path)"
      ],
      "execution_count": 0,
      "outputs": [
        {
          "output_type": "execute_result",
          "data": {
            "text/plain": [
              "['valid',\n",
              " 'valid_labeled_studies.csv',\n",
              " 'train_labeled_studies.csv',\n",
              " 'valid_image_paths.csv',\n",
              " 'train',\n",
              " 'train_image_paths.csv']"
            ]
          },
          "metadata": {
            "tags": []
          },
          "execution_count": 9
        }
      ]
    },
    {
      "cell_type": "markdown",
      "metadata": {
        "id": "z1It8ArOPV-o",
        "colab_type": "text"
      },
      "source": [
        "### Read csv files"
      ]
    },
    {
      "cell_type": "code",
      "metadata": {
        "id": "QD3yzq7BPD3_",
        "colab_type": "code",
        "outputId": "b5c88a28-c9b0-471a-e45c-81068d514dff",
        "colab": {
          "base_uri": "https://localhost:8080/",
          "height": 35
        }
      },
      "source": [
        "df_train = pd.read_csv(path + 'train_image_paths.csv', header=None, names=['image'])\n",
        "df_train.image[0]"
      ],
      "execution_count": 0,
      "outputs": [
        {
          "output_type": "execute_result",
          "data": {
            "text/plain": [
              "'MURA-v1.1/train/XR_SHOULDER/patient00001/study1_positive/image1.png'"
            ]
          },
          "metadata": {
            "tags": []
          },
          "execution_count": 10
        }
      ]
    },
    {
      "cell_type": "code",
      "metadata": {
        "id": "HsRzobo_PmUu",
        "colab_type": "code",
        "outputId": "fd82cecd-639b-49c7-f6d6-a83c7ff1e981",
        "colab": {
          "base_uri": "https://localhost:8080/",
          "height": 35
        }
      },
      "source": [
        "df_valid = pd.read_csv(path + 'valid_image_paths.csv', header=None, names=['image'])\n",
        "df_valid.image[0]"
      ],
      "execution_count": 0,
      "outputs": [
        {
          "output_type": "execute_result",
          "data": {
            "text/plain": [
              "'MURA-v1.1/valid/XR_WRIST/patient11185/study1_positive/image1.png'"
            ]
          },
          "metadata": {
            "tags": []
          },
          "execution_count": 11
        }
      ]
    },
    {
      "cell_type": "code",
      "metadata": {
        "id": "JfFxg-NTQQvg",
        "colab_type": "code",
        "outputId": "5ef0d818-f90e-4004-9e92-a729dc94c6ad",
        "colab": {
          "base_uri": "https://localhost:8080/",
          "height": 204
        }
      },
      "source": [
        "df_train_label = pd.read_csv(path + 'train_labeled_studies.csv', header=None, names=['image', 'label'])\n",
        "df_train_label.head()"
      ],
      "execution_count": 0,
      "outputs": [
        {
          "output_type": "execute_result",
          "data": {
            "text/html": [
              "<div>\n",
              "<style scoped>\n",
              "    .dataframe tbody tr th:only-of-type {\n",
              "        vertical-align: middle;\n",
              "    }\n",
              "\n",
              "    .dataframe tbody tr th {\n",
              "        vertical-align: top;\n",
              "    }\n",
              "\n",
              "    .dataframe thead th {\n",
              "        text-align: right;\n",
              "    }\n",
              "</style>\n",
              "<table border=\"1\" class=\"dataframe\">\n",
              "  <thead>\n",
              "    <tr style=\"text-align: right;\">\n",
              "      <th></th>\n",
              "      <th>image</th>\n",
              "      <th>label</th>\n",
              "    </tr>\n",
              "  </thead>\n",
              "  <tbody>\n",
              "    <tr>\n",
              "      <th>0</th>\n",
              "      <td>MURA-v1.1/train/XR_SHOULDER/patient00001/study...</td>\n",
              "      <td>1</td>\n",
              "    </tr>\n",
              "    <tr>\n",
              "      <th>1</th>\n",
              "      <td>MURA-v1.1/train/XR_SHOULDER/patient00002/study...</td>\n",
              "      <td>1</td>\n",
              "    </tr>\n",
              "    <tr>\n",
              "      <th>2</th>\n",
              "      <td>MURA-v1.1/train/XR_SHOULDER/patient00003/study...</td>\n",
              "      <td>1</td>\n",
              "    </tr>\n",
              "    <tr>\n",
              "      <th>3</th>\n",
              "      <td>MURA-v1.1/train/XR_SHOULDER/patient00004/study...</td>\n",
              "      <td>1</td>\n",
              "    </tr>\n",
              "    <tr>\n",
              "      <th>4</th>\n",
              "      <td>MURA-v1.1/train/XR_SHOULDER/patient00005/study...</td>\n",
              "      <td>1</td>\n",
              "    </tr>\n",
              "  </tbody>\n",
              "</table>\n",
              "</div>"
            ],
            "text/plain": [
              "                                               image  label\n",
              "0  MURA-v1.1/train/XR_SHOULDER/patient00001/study...      1\n",
              "1  MURA-v1.1/train/XR_SHOULDER/patient00002/study...      1\n",
              "2  MURA-v1.1/train/XR_SHOULDER/patient00003/study...      1\n",
              "3  MURA-v1.1/train/XR_SHOULDER/patient00004/study...      1\n",
              "4  MURA-v1.1/train/XR_SHOULDER/patient00005/study...      1"
            ]
          },
          "metadata": {
            "tags": []
          },
          "execution_count": 12
        }
      ]
    },
    {
      "cell_type": "code",
      "metadata": {
        "id": "OJa3LxvoQ3ND",
        "colab_type": "code",
        "outputId": "08f106d7-1909-42e4-b567-effc36ee739e",
        "colab": {
          "base_uri": "https://localhost:8080/",
          "height": 204
        }
      },
      "source": [
        "df_valid_label = pd.read_csv(path + 'valid_labeled_studies.csv', header=None, names=['image', 'label'])\n",
        "df_valid_label.head()"
      ],
      "execution_count": 0,
      "outputs": [
        {
          "output_type": "execute_result",
          "data": {
            "text/html": [
              "<div>\n",
              "<style scoped>\n",
              "    .dataframe tbody tr th:only-of-type {\n",
              "        vertical-align: middle;\n",
              "    }\n",
              "\n",
              "    .dataframe tbody tr th {\n",
              "        vertical-align: top;\n",
              "    }\n",
              "\n",
              "    .dataframe thead th {\n",
              "        text-align: right;\n",
              "    }\n",
              "</style>\n",
              "<table border=\"1\" class=\"dataframe\">\n",
              "  <thead>\n",
              "    <tr style=\"text-align: right;\">\n",
              "      <th></th>\n",
              "      <th>image</th>\n",
              "      <th>label</th>\n",
              "    </tr>\n",
              "  </thead>\n",
              "  <tbody>\n",
              "    <tr>\n",
              "      <th>0</th>\n",
              "      <td>MURA-v1.1/valid/XR_WRIST/patient11185/study1_p...</td>\n",
              "      <td>1</td>\n",
              "    </tr>\n",
              "    <tr>\n",
              "      <th>1</th>\n",
              "      <td>MURA-v1.1/valid/XR_WRIST/patient11186/study1_p...</td>\n",
              "      <td>1</td>\n",
              "    </tr>\n",
              "    <tr>\n",
              "      <th>2</th>\n",
              "      <td>MURA-v1.1/valid/XR_WRIST/patient11186/study2_p...</td>\n",
              "      <td>1</td>\n",
              "    </tr>\n",
              "    <tr>\n",
              "      <th>3</th>\n",
              "      <td>MURA-v1.1/valid/XR_WRIST/patient11186/study3_p...</td>\n",
              "      <td>1</td>\n",
              "    </tr>\n",
              "    <tr>\n",
              "      <th>4</th>\n",
              "      <td>MURA-v1.1/valid/XR_WRIST/patient11187/study1_p...</td>\n",
              "      <td>1</td>\n",
              "    </tr>\n",
              "  </tbody>\n",
              "</table>\n",
              "</div>"
            ],
            "text/plain": [
              "                                               image  label\n",
              "0  MURA-v1.1/valid/XR_WRIST/patient11185/study1_p...      1\n",
              "1  MURA-v1.1/valid/XR_WRIST/patient11186/study1_p...      1\n",
              "2  MURA-v1.1/valid/XR_WRIST/patient11186/study2_p...      1\n",
              "3  MURA-v1.1/valid/XR_WRIST/patient11186/study3_p...      1\n",
              "4  MURA-v1.1/valid/XR_WRIST/patient11187/study1_p...      1"
            ]
          },
          "metadata": {
            "tags": []
          },
          "execution_count": 13
        }
      ]
    },
    {
      "cell_type": "markdown",
      "metadata": {
        "id": "lDf1BFuWRH6Q",
        "colab_type": "text"
      },
      "source": [
        "### Create folder 'data2' to train models"
      ]
    },
    {
      "cell_type": "code",
      "metadata": {
        "id": "89e_1uHFQ_HP",
        "colab_type": "code",
        "colab": {}
      },
      "source": [
        "path_train = path + 'data2/train/'\n",
        "path_valid = path + 'data2/valid/'\n",
        "\n",
        "os.mkdir(path + 'data2/')\n",
        "os.mkdir(path_train)\n",
        "os.mkdir(path_valid)"
      ],
      "execution_count": 0,
      "outputs": []
    },
    {
      "cell_type": "code",
      "metadata": {
        "id": "LOy5SZ2RRd_-",
        "colab_type": "code",
        "colab": {}
      },
      "source": [
        "os.mkdir(path_train + '0/')\n",
        "os.mkdir(path_train + '1/')\n",
        "\n",
        "path_train_neg = path_train + '0/'\n",
        "path_train_pos = path_train + '1/'"
      ],
      "execution_count": 0,
      "outputs": []
    },
    {
      "cell_type": "code",
      "metadata": {
        "id": "qqhd29N_Ri3M",
        "colab_type": "code",
        "colab": {}
      },
      "source": [
        "os.mkdir(path_valid + '0/')\n",
        "os.mkdir(path_valid + '1/')\n",
        "\n",
        "path_valid_neg = path_valid + '0/'\n",
        "path_valid_pos = path_valid + '1/'"
      ],
      "execution_count": 0,
      "outputs": []
    },
    {
      "cell_type": "code",
      "metadata": {
        "id": "TrKxsQp0TWRQ",
        "colab_type": "code",
        "outputId": "99b6e43f-dec5-44d3-a6e2-495c63f9a2b9",
        "colab": {
          "base_uri": "https://localhost:8080/",
          "height": 89
        }
      },
      "source": [
        "print(path_train_neg)\n",
        "print(path_train_pos)\n",
        "print(path_valid_neg)\n",
        "print(path_valid_pos)"
      ],
      "execution_count": 0,
      "outputs": [
        {
          "output_type": "stream",
          "text": [
            "/tmp/MURA-v1.1/data2/train/0/\n",
            "/tmp/MURA-v1.1/data2/train/1/\n",
            "/tmp/MURA-v1.1/data2/valid/0/\n",
            "/tmp/MURA-v1.1/data2/valid/1/\n"
          ],
          "name": "stdout"
        }
      ]
    },
    {
      "cell_type": "markdown",
      "metadata": {
        "id": "DK9-8rvfjVH-",
        "colab_type": "text"
      },
      "source": [
        "### Get list of images"
      ]
    },
    {
      "cell_type": "code",
      "metadata": {
        "id": "RgsbDXARTmpb",
        "colab_type": "code",
        "outputId": "a573a8ef-7b7e-45fb-fac6-1ed36b1c96b7",
        "colab": {
          "base_uri": "https://localhost:8080/",
          "height": 125
        }
      },
      "source": [
        "fnames_train = get_image_files(path + 'train', recurse=True)\n",
        "print(len(fnames_train))\n",
        "fnames_train[:5]"
      ],
      "execution_count": 0,
      "outputs": [
        {
          "output_type": "stream",
          "text": [
            "36808\n"
          ],
          "name": "stdout"
        },
        {
          "output_type": "execute_result",
          "data": {
            "text/plain": [
              "[PosixPath('/tmp/MURA-v1.1/train/XR_ELBOW/patient05624/study1_negative/image1.png'),\n",
              " PosixPath('/tmp/MURA-v1.1/train/XR_ELBOW/patient05624/study1_negative/image2.png'),\n",
              " PosixPath('/tmp/MURA-v1.1/train/XR_ELBOW/patient05492/study1_negative/image1.png'),\n",
              " PosixPath('/tmp/MURA-v1.1/train/XR_ELBOW/patient05492/study1_negative/image2.png'),\n",
              " PosixPath('/tmp/MURA-v1.1/train/XR_ELBOW/patient05492/study1_negative/image4.png')]"
            ]
          },
          "metadata": {
            "tags": []
          },
          "execution_count": 20
        }
      ]
    },
    {
      "cell_type": "code",
      "metadata": {
        "id": "ijEzkBjDjoCy",
        "colab_type": "code",
        "outputId": "aad6fd21-f41b-40b4-d186-7f423a428d2c",
        "colab": {
          "base_uri": "https://localhost:8080/",
          "height": 125
        }
      },
      "source": [
        "fnames_valid = get_image_files(path + 'valid', recurse=True)\n",
        "print(len(fnames_valid))\n",
        "fnames_valid[:5]"
      ],
      "execution_count": 0,
      "outputs": [
        {
          "output_type": "stream",
          "text": [
            "3197\n"
          ],
          "name": "stdout"
        },
        {
          "output_type": "execute_result",
          "data": {
            "text/plain": [
              "[PosixPath('/tmp/MURA-v1.1/valid/XR_ELBOW/patient11603/study1_positive/image1.png'),\n",
              " PosixPath('/tmp/MURA-v1.1/valid/XR_ELBOW/patient11603/study1_positive/image2.png'),\n",
              " PosixPath('/tmp/MURA-v1.1/valid/XR_ELBOW/patient11849/study1_negative/image1.png'),\n",
              " PosixPath('/tmp/MURA-v1.1/valid/XR_ELBOW/patient11849/study1_negative/image2.png'),\n",
              " PosixPath('/tmp/MURA-v1.1/valid/XR_ELBOW/patient11466/study1_negative/image1.png')]"
            ]
          },
          "metadata": {
            "tags": []
          },
          "execution_count": 21
        }
      ]
    },
    {
      "cell_type": "markdown",
      "metadata": {
        "id": "R57rMFU3kf63",
        "colab_type": "text"
      },
      "source": [
        "### Copy images into data2"
      ]
    },
    {
      "cell_type": "code",
      "metadata": {
        "id": "C6DCsKkjkPjJ",
        "colab_type": "code",
        "colab": {}
      },
      "source": [
        "pat_label = re.compile(r'/XR_([^/]+)/[^/]+/[^/]+/[^/]+.png$')\n",
        "pat_patient = re.compile(r'/[^/]+/patient([^/]+)/[^/]+/[^/]+.png$')\n",
        "pat_study = re.compile(r'/[^/]+/[^/]+/([^/]+)/[^/]+.png$')\n",
        "# pat_study_negpos = re.compile(r'\\\\[^\\\\]+\\\\[^\\\\]+\\\\study\\d+_([^\\\\]+)\\\\[^\\\\]+.png$')"
      ],
      "execution_count": 0,
      "outputs": []
    },
    {
      "cell_type": "code",
      "metadata": {
        "id": "3DlVgVlXkmO-",
        "colab_type": "code",
        "outputId": "c9d4d966-fb3d-4d67-a0b5-087da4b07514",
        "colab": {
          "base_uri": "https://localhost:8080/",
          "height": 53
        }
      },
      "source": [
        "%%time\n",
        "# copy all train images in corresponding class folders under MURA-v1.1/data2/train\n",
        "for src in fnames_train:\n",
        "    # get image label\n",
        "    label = pat_label.search(str(src))\n",
        "    label = label.group(1)\n",
        "    # get patient number\n",
        "    patient = pat_patient.search(str(src))\n",
        "    patient = patient.group(1)\n",
        "    # get study name\n",
        "    study = pat_study.search(str(src))\n",
        "    study = study.group(1)  \n",
        "    # create class folder if necessary\n",
        "    if 'negative' in study:\n",
        "        path_label = path_train_neg\n",
        "    else:\n",
        "        path_label = path_train_pos\n",
        "    # copy image to its class folder\n",
        "    img_name = label + '_patient' + patient + '_' + study + '_' + src.name\n",
        "    dest = path_label + img_name\n",
        "    shutil.copy(str(src), str(dest))"
      ],
      "execution_count": 0,
      "outputs": [
        {
          "output_type": "stream",
          "text": [
            "CPU times: user 2.67 s, sys: 5.19 s, total: 7.86 s\n",
            "Wall time: 54.3 s\n"
          ],
          "name": "stdout"
        }
      ]
    },
    {
      "cell_type": "code",
      "metadata": {
        "id": "G_WrXoblksIK",
        "colab_type": "code",
        "outputId": "52114a3d-8b86-4c8b-8cbf-65f8cb10bbae",
        "colab": {
          "base_uri": "https://localhost:8080/",
          "height": 53
        }
      },
      "source": [
        "%%time\n",
        "# copy all valid images in corresponding class folders under MURA-v1.1/data2/valid\n",
        "for src in fnames_valid:\n",
        "    # get image label\n",
        "    label = pat_label.search(str(src))\n",
        "    label = label.group(1)\n",
        "    # get patient number\n",
        "    patient = pat_patient.search(str(src))\n",
        "    patient = patient.group(1)\n",
        "    # get study name\n",
        "    study = pat_study.search(str(src))\n",
        "    study = study.group(1)  \n",
        "    # create class folder if necessary\n",
        "    if 'negative' in study:\n",
        "        path_label = path_valid_neg\n",
        "    else:\n",
        "        path_label = path_valid_pos\n",
        "    # copy image to its class folder\n",
        "    img_name = label + '_patient' + patient + '_' + study + '_' + src.name\n",
        "    dest = path_label + img_name\n",
        "    shutil.copy(str(src), str(dest))"
      ],
      "execution_count": 0,
      "outputs": [
        {
          "output_type": "stream",
          "text": [
            "CPU times: user 298 ms, sys: 648 ms, total: 946 ms\n",
            "Wall time: 7.89 s\n"
          ],
          "name": "stdout"
        }
      ]
    },
    {
      "cell_type": "markdown",
      "metadata": {
        "id": "CNEqbm4dlTkE",
        "colab_type": "text"
      },
      "source": [
        "### Number of studies"
      ]
    },
    {
      "cell_type": "code",
      "metadata": {
        "id": "f4SYcnY6lMGb",
        "colab_type": "code",
        "colab": {}
      },
      "source": [
        "pat_label = re.compile(r'/XR_([^/]+)/[^/]+/[^/]+/[^/]+.png$')\n",
        "pat_patient = re.compile(r'/[^/]+/patient([^/]+)/[^/]+/[^/]+.png$')\n",
        "pat_study = re.compile(r'/([^/]+)_[^/]+/[^/]+.png$')"
      ],
      "execution_count": 0,
      "outputs": []
    },
    {
      "cell_type": "code",
      "metadata": {
        "id": "4BwP7wU0lZ7N",
        "colab_type": "code",
        "colab": {}
      },
      "source": [
        "mura = ['elbow', 'finger', 'forearm', 'hand', 'humerus', 'shoulder', 'wrist']\n",
        "\n",
        "study_train_dict = dict()\n",
        "study_valid_dict = dict()\n",
        "\n",
        "for m in mura:\n",
        "    study_train_dict[m] = list()\n",
        "    study_valid_dict[m] = list()\n",
        "    \n",
        "for src in fnames_train:\n",
        "    # get image label\n",
        "    label = pat_label.search(str(src))\n",
        "    label = label.group(1)\n",
        "    # get patient number\n",
        "    patient = pat_patient.search(str(src))\n",
        "    patient = patient.group(1)\n",
        "    # get study name\n",
        "    study = pat_study.search(str(src))\n",
        "    study = study.group(1)\n",
        "    # add to label list\n",
        "    s = 'patient' + patient + '_' + study\n",
        "    study_train_dict[label.lower()].append(s)\n",
        "\n",
        "for src in fnames_valid:\n",
        "    # get image label\n",
        "    label = pat_label.search(str(src))\n",
        "    label = label.group(1)\n",
        "    # get patient number\n",
        "    patient = pat_patient.search(str(src))\n",
        "    patient = patient.group(1)\n",
        "    # get study name\n",
        "    study = pat_study.search(str(src))\n",
        "    study = study.group(1)\n",
        "    # add to label list\n",
        "    s = 'patient' + patient + '_' + study\n",
        "    study_valid_dict[label.lower()].append(s)"
      ],
      "execution_count": 0,
      "outputs": []
    },
    {
      "cell_type": "code",
      "metadata": {
        "id": "kNjGAZ4ulkgu",
        "colab_type": "code",
        "colab": {}
      },
      "source": [
        "num_train_studies = 0\n",
        "num_valid_studies = 0\n",
        "\n",
        "for m in mura:\n",
        "    # train\n",
        "    myset = set(study_train_dict[m])\n",
        "    num_train_studies += len(myset)\n",
        "    # valid\n",
        "    myset = set(study_valid_dict[m])\n",
        "    num_valid_studies += len(myset)"
      ],
      "execution_count": 0,
      "outputs": []
    },
    {
      "cell_type": "code",
      "metadata": {
        "id": "AXLwPx0QloJ1",
        "colab_type": "code",
        "outputId": "5fadefa4-e15e-446e-c22e-a5f2b911d42b",
        "colab": {
          "base_uri": "https://localhost:8080/",
          "height": 35
        }
      },
      "source": [
        "# 207 studies in test\n",
        "num_train_studies, num_valid_studies, num_train_studies + num_valid_studies + 207"
      ],
      "execution_count": 0,
      "outputs": [
        {
          "output_type": "execute_result",
          "data": {
            "text/plain": [
              "(13457, 1199, 14863)"
            ]
          },
          "metadata": {
            "tags": []
          },
          "execution_count": 28
        }
      ]
    },
    {
      "cell_type": "markdown",
      "metadata": {
        "id": "b4FBNRudmAlb",
        "colab_type": "text"
      },
      "source": [
        "## Training with Resnet34"
      ]
    },
    {
      "cell_type": "code",
      "metadata": {
        "id": "3fawZ82ww-XI",
        "colab_type": "code",
        "outputId": "7fcdb957-1da3-4083-b0e2-4a00d2ad2640",
        "colab": {
          "base_uri": "https://localhost:8080/",
          "height": 35
        }
      },
      "source": [
        "device = torch.device(\"cuda:0\" if torch.cuda.is_available() else \"cpu\")\n",
        "device"
      ],
      "execution_count": 0,
      "outputs": [
        {
          "output_type": "execute_result",
          "data": {
            "text/plain": [
              "device(type='cuda', index=0)"
            ]
          },
          "metadata": {
            "tags": []
          },
          "execution_count": 29
        }
      ]
    },
    {
      "cell_type": "code",
      "metadata": {
        "id": "Xj65oXtBw_oh",
        "colab_type": "code",
        "colab": {}
      },
      "source": [
        "epochs = 5\n",
        "batch_size = 1"
      ],
      "execution_count": 0,
      "outputs": []
    },
    {
      "cell_type": "code",
      "metadata": {
        "id": "ZDbitkITxFNv",
        "colab_type": "code",
        "colab": {}
      },
      "source": [
        "# 01 transforms\n",
        "means = (0.485, 0.456, 0.406)\n",
        "std = (0.229, 0.224, 0.225)\n",
        "train_transform = transforms.Compose([transforms.Resize(224),\n",
        "                                transforms.ToTensor(),\n",
        "                                transforms.Normalize(means, std)])\n",
        "test_transform = transforms.Compose([transforms.Resize(224),\n",
        "                                transforms.ToTensor(),\n",
        "                                transforms.Normalize(means, std)])"
      ],
      "execution_count": 0,
      "outputs": []
    },
    {
      "cell_type": "code",
      "metadata": {
        "id": "z2hzN8HqxYqM",
        "colab_type": "code",
        "colab": {}
      },
      "source": [
        "trainset = torchvision.datasets.ImageFolder(root=path_train, transform=train_transform)\n",
        "testset = torchvision.datasets.ImageFolder(root=path_valid, transform=test_transform)"
      ],
      "execution_count": 0,
      "outputs": []
    },
    {
      "cell_type": "code",
      "metadata": {
        "id": "G4NXQjZax6Pl",
        "colab_type": "code",
        "colab": {}
      },
      "source": [
        "trainloader = DataLoader(trainset, batch_size=batch_size, shuffle=True)\n",
        "testloader = DataLoader(testset, batch_size=batch_size, shuffle=True)"
      ],
      "execution_count": 0,
      "outputs": []
    },
    {
      "cell_type": "code",
      "metadata": {
        "id": "Bl8zFP_Nx-ia",
        "colab_type": "code",
        "outputId": "395cd5f5-fac7-4acd-abcf-dd87d52e6714",
        "colab": {
          "base_uri": "https://localhost:8080/",
          "height": 53
        }
      },
      "source": [
        "print(len(trainset))\n",
        "print(len(testset))"
      ],
      "execution_count": 0,
      "outputs": [
        {
          "output_type": "stream",
          "text": [
            "36808\n",
            "3197\n"
          ],
          "name": "stdout"
        }
      ]
    },
    {
      "cell_type": "code",
      "metadata": {
        "id": "8j07gLkNyAmB",
        "colab_type": "code",
        "outputId": "1da941ff-9cb8-43e7-fddc-aeb8a1a7df97",
        "colab": {
          "base_uri": "https://localhost:8080/",
          "height": 341
        }
      },
      "source": [
        "print(trainloader.dataset)\n",
        "print(testloader.dataset)"
      ],
      "execution_count": 0,
      "outputs": [
        {
          "output_type": "stream",
          "text": [
            "Dataset ImageFolder\n",
            "    Number of datapoints: 36808\n",
            "    Root location: /tmp/MURA-v1.1/data2/train/\n",
            "    StandardTransform\n",
            "Transform: Compose(\n",
            "               Resize(size=224, interpolation=PIL.Image.BILINEAR)\n",
            "               ToTensor()\n",
            "               Normalize(mean=(0.485, 0.456, 0.406), std=(0.229, 0.224, 0.225))\n",
            "           )\n",
            "Dataset ImageFolder\n",
            "    Number of datapoints: 3197\n",
            "    Root location: /tmp/MURA-v1.1/data2/valid/\n",
            "    StandardTransform\n",
            "Transform: Compose(\n",
            "               Resize(size=224, interpolation=PIL.Image.BILINEAR)\n",
            "               ToTensor()\n",
            "               Normalize(mean=(0.485, 0.456, 0.406), std=(0.229, 0.224, 0.225))\n",
            "           )\n"
          ],
          "name": "stdout"
        }
      ]
    },
    {
      "cell_type": "code",
      "metadata": {
        "id": "IlqxqDzRQ399",
        "colab_type": "code",
        "outputId": "341525aa-a4ab-4d4e-e8ee-536e0017b574",
        "colab": {
          "base_uri": "https://localhost:8080/",
          "height": 35
        }
      },
      "source": [
        "classes = trainloader.dataset.classes\n",
        "classes"
      ],
      "execution_count": 0,
      "outputs": [
        {
          "output_type": "execute_result",
          "data": {
            "text/plain": [
              "['0', '1']"
            ]
          },
          "metadata": {
            "tags": []
          },
          "execution_count": 77
        }
      ]
    },
    {
      "cell_type": "code",
      "metadata": {
        "id": "xH5zqeQSRAHP",
        "colab_type": "code",
        "outputId": "d128d264-8587-4a8d-f5ae-b4926672d1df",
        "colab": {
          "base_uri": "https://localhost:8080/",
          "height": 1000
        }
      },
      "source": [
        "model = models.resnet34()\n",
        "model"
      ],
      "execution_count": 0,
      "outputs": [
        {
          "output_type": "execute_result",
          "data": {
            "text/plain": [
              "ResNet(\n",
              "  (conv1): Conv2d(3, 64, kernel_size=(7, 7), stride=(2, 2), padding=(3, 3), bias=False)\n",
              "  (bn1): BatchNorm2d(64, eps=1e-05, momentum=0.1, affine=True, track_running_stats=True)\n",
              "  (relu): ReLU(inplace=True)\n",
              "  (maxpool): MaxPool2d(kernel_size=3, stride=2, padding=1, dilation=1, ceil_mode=False)\n",
              "  (layer1): Sequential(\n",
              "    (0): BasicBlock(\n",
              "      (conv1): Conv2d(64, 64, kernel_size=(3, 3), stride=(1, 1), padding=(1, 1), bias=False)\n",
              "      (bn1): BatchNorm2d(64, eps=1e-05, momentum=0.1, affine=True, track_running_stats=True)\n",
              "      (relu): ReLU(inplace=True)\n",
              "      (conv2): Conv2d(64, 64, kernel_size=(3, 3), stride=(1, 1), padding=(1, 1), bias=False)\n",
              "      (bn2): BatchNorm2d(64, eps=1e-05, momentum=0.1, affine=True, track_running_stats=True)\n",
              "    )\n",
              "    (1): BasicBlock(\n",
              "      (conv1): Conv2d(64, 64, kernel_size=(3, 3), stride=(1, 1), padding=(1, 1), bias=False)\n",
              "      (bn1): BatchNorm2d(64, eps=1e-05, momentum=0.1, affine=True, track_running_stats=True)\n",
              "      (relu): ReLU(inplace=True)\n",
              "      (conv2): Conv2d(64, 64, kernel_size=(3, 3), stride=(1, 1), padding=(1, 1), bias=False)\n",
              "      (bn2): BatchNorm2d(64, eps=1e-05, momentum=0.1, affine=True, track_running_stats=True)\n",
              "    )\n",
              "    (2): BasicBlock(\n",
              "      (conv1): Conv2d(64, 64, kernel_size=(3, 3), stride=(1, 1), padding=(1, 1), bias=False)\n",
              "      (bn1): BatchNorm2d(64, eps=1e-05, momentum=0.1, affine=True, track_running_stats=True)\n",
              "      (relu): ReLU(inplace=True)\n",
              "      (conv2): Conv2d(64, 64, kernel_size=(3, 3), stride=(1, 1), padding=(1, 1), bias=False)\n",
              "      (bn2): BatchNorm2d(64, eps=1e-05, momentum=0.1, affine=True, track_running_stats=True)\n",
              "    )\n",
              "  )\n",
              "  (layer2): Sequential(\n",
              "    (0): BasicBlock(\n",
              "      (conv1): Conv2d(64, 128, kernel_size=(3, 3), stride=(2, 2), padding=(1, 1), bias=False)\n",
              "      (bn1): BatchNorm2d(128, eps=1e-05, momentum=0.1, affine=True, track_running_stats=True)\n",
              "      (relu): ReLU(inplace=True)\n",
              "      (conv2): Conv2d(128, 128, kernel_size=(3, 3), stride=(1, 1), padding=(1, 1), bias=False)\n",
              "      (bn2): BatchNorm2d(128, eps=1e-05, momentum=0.1, affine=True, track_running_stats=True)\n",
              "      (downsample): Sequential(\n",
              "        (0): Conv2d(64, 128, kernel_size=(1, 1), stride=(2, 2), bias=False)\n",
              "        (1): BatchNorm2d(128, eps=1e-05, momentum=0.1, affine=True, track_running_stats=True)\n",
              "      )\n",
              "    )\n",
              "    (1): BasicBlock(\n",
              "      (conv1): Conv2d(128, 128, kernel_size=(3, 3), stride=(1, 1), padding=(1, 1), bias=False)\n",
              "      (bn1): BatchNorm2d(128, eps=1e-05, momentum=0.1, affine=True, track_running_stats=True)\n",
              "      (relu): ReLU(inplace=True)\n",
              "      (conv2): Conv2d(128, 128, kernel_size=(3, 3), stride=(1, 1), padding=(1, 1), bias=False)\n",
              "      (bn2): BatchNorm2d(128, eps=1e-05, momentum=0.1, affine=True, track_running_stats=True)\n",
              "    )\n",
              "    (2): BasicBlock(\n",
              "      (conv1): Conv2d(128, 128, kernel_size=(3, 3), stride=(1, 1), padding=(1, 1), bias=False)\n",
              "      (bn1): BatchNorm2d(128, eps=1e-05, momentum=0.1, affine=True, track_running_stats=True)\n",
              "      (relu): ReLU(inplace=True)\n",
              "      (conv2): Conv2d(128, 128, kernel_size=(3, 3), stride=(1, 1), padding=(1, 1), bias=False)\n",
              "      (bn2): BatchNorm2d(128, eps=1e-05, momentum=0.1, affine=True, track_running_stats=True)\n",
              "    )\n",
              "    (3): BasicBlock(\n",
              "      (conv1): Conv2d(128, 128, kernel_size=(3, 3), stride=(1, 1), padding=(1, 1), bias=False)\n",
              "      (bn1): BatchNorm2d(128, eps=1e-05, momentum=0.1, affine=True, track_running_stats=True)\n",
              "      (relu): ReLU(inplace=True)\n",
              "      (conv2): Conv2d(128, 128, kernel_size=(3, 3), stride=(1, 1), padding=(1, 1), bias=False)\n",
              "      (bn2): BatchNorm2d(128, eps=1e-05, momentum=0.1, affine=True, track_running_stats=True)\n",
              "    )\n",
              "  )\n",
              "  (layer3): Sequential(\n",
              "    (0): BasicBlock(\n",
              "      (conv1): Conv2d(128, 256, kernel_size=(3, 3), stride=(2, 2), padding=(1, 1), bias=False)\n",
              "      (bn1): BatchNorm2d(256, eps=1e-05, momentum=0.1, affine=True, track_running_stats=True)\n",
              "      (relu): ReLU(inplace=True)\n",
              "      (conv2): Conv2d(256, 256, kernel_size=(3, 3), stride=(1, 1), padding=(1, 1), bias=False)\n",
              "      (bn2): BatchNorm2d(256, eps=1e-05, momentum=0.1, affine=True, track_running_stats=True)\n",
              "      (downsample): Sequential(\n",
              "        (0): Conv2d(128, 256, kernel_size=(1, 1), stride=(2, 2), bias=False)\n",
              "        (1): BatchNorm2d(256, eps=1e-05, momentum=0.1, affine=True, track_running_stats=True)\n",
              "      )\n",
              "    )\n",
              "    (1): BasicBlock(\n",
              "      (conv1): Conv2d(256, 256, kernel_size=(3, 3), stride=(1, 1), padding=(1, 1), bias=False)\n",
              "      (bn1): BatchNorm2d(256, eps=1e-05, momentum=0.1, affine=True, track_running_stats=True)\n",
              "      (relu): ReLU(inplace=True)\n",
              "      (conv2): Conv2d(256, 256, kernel_size=(3, 3), stride=(1, 1), padding=(1, 1), bias=False)\n",
              "      (bn2): BatchNorm2d(256, eps=1e-05, momentum=0.1, affine=True, track_running_stats=True)\n",
              "    )\n",
              "    (2): BasicBlock(\n",
              "      (conv1): Conv2d(256, 256, kernel_size=(3, 3), stride=(1, 1), padding=(1, 1), bias=False)\n",
              "      (bn1): BatchNorm2d(256, eps=1e-05, momentum=0.1, affine=True, track_running_stats=True)\n",
              "      (relu): ReLU(inplace=True)\n",
              "      (conv2): Conv2d(256, 256, kernel_size=(3, 3), stride=(1, 1), padding=(1, 1), bias=False)\n",
              "      (bn2): BatchNorm2d(256, eps=1e-05, momentum=0.1, affine=True, track_running_stats=True)\n",
              "    )\n",
              "    (3): BasicBlock(\n",
              "      (conv1): Conv2d(256, 256, kernel_size=(3, 3), stride=(1, 1), padding=(1, 1), bias=False)\n",
              "      (bn1): BatchNorm2d(256, eps=1e-05, momentum=0.1, affine=True, track_running_stats=True)\n",
              "      (relu): ReLU(inplace=True)\n",
              "      (conv2): Conv2d(256, 256, kernel_size=(3, 3), stride=(1, 1), padding=(1, 1), bias=False)\n",
              "      (bn2): BatchNorm2d(256, eps=1e-05, momentum=0.1, affine=True, track_running_stats=True)\n",
              "    )\n",
              "    (4): BasicBlock(\n",
              "      (conv1): Conv2d(256, 256, kernel_size=(3, 3), stride=(1, 1), padding=(1, 1), bias=False)\n",
              "      (bn1): BatchNorm2d(256, eps=1e-05, momentum=0.1, affine=True, track_running_stats=True)\n",
              "      (relu): ReLU(inplace=True)\n",
              "      (conv2): Conv2d(256, 256, kernel_size=(3, 3), stride=(1, 1), padding=(1, 1), bias=False)\n",
              "      (bn2): BatchNorm2d(256, eps=1e-05, momentum=0.1, affine=True, track_running_stats=True)\n",
              "    )\n",
              "    (5): BasicBlock(\n",
              "      (conv1): Conv2d(256, 256, kernel_size=(3, 3), stride=(1, 1), padding=(1, 1), bias=False)\n",
              "      (bn1): BatchNorm2d(256, eps=1e-05, momentum=0.1, affine=True, track_running_stats=True)\n",
              "      (relu): ReLU(inplace=True)\n",
              "      (conv2): Conv2d(256, 256, kernel_size=(3, 3), stride=(1, 1), padding=(1, 1), bias=False)\n",
              "      (bn2): BatchNorm2d(256, eps=1e-05, momentum=0.1, affine=True, track_running_stats=True)\n",
              "    )\n",
              "  )\n",
              "  (layer4): Sequential(\n",
              "    (0): BasicBlock(\n",
              "      (conv1): Conv2d(256, 512, kernel_size=(3, 3), stride=(2, 2), padding=(1, 1), bias=False)\n",
              "      (bn1): BatchNorm2d(512, eps=1e-05, momentum=0.1, affine=True, track_running_stats=True)\n",
              "      (relu): ReLU(inplace=True)\n",
              "      (conv2): Conv2d(512, 512, kernel_size=(3, 3), stride=(1, 1), padding=(1, 1), bias=False)\n",
              "      (bn2): BatchNorm2d(512, eps=1e-05, momentum=0.1, affine=True, track_running_stats=True)\n",
              "      (downsample): Sequential(\n",
              "        (0): Conv2d(256, 512, kernel_size=(1, 1), stride=(2, 2), bias=False)\n",
              "        (1): BatchNorm2d(512, eps=1e-05, momentum=0.1, affine=True, track_running_stats=True)\n",
              "      )\n",
              "    )\n",
              "    (1): BasicBlock(\n",
              "      (conv1): Conv2d(512, 512, kernel_size=(3, 3), stride=(1, 1), padding=(1, 1), bias=False)\n",
              "      (bn1): BatchNorm2d(512, eps=1e-05, momentum=0.1, affine=True, track_running_stats=True)\n",
              "      (relu): ReLU(inplace=True)\n",
              "      (conv2): Conv2d(512, 512, kernel_size=(3, 3), stride=(1, 1), padding=(1, 1), bias=False)\n",
              "      (bn2): BatchNorm2d(512, eps=1e-05, momentum=0.1, affine=True, track_running_stats=True)\n",
              "    )\n",
              "    (2): BasicBlock(\n",
              "      (conv1): Conv2d(512, 512, kernel_size=(3, 3), stride=(1, 1), padding=(1, 1), bias=False)\n",
              "      (bn1): BatchNorm2d(512, eps=1e-05, momentum=0.1, affine=True, track_running_stats=True)\n",
              "      (relu): ReLU(inplace=True)\n",
              "      (conv2): Conv2d(512, 512, kernel_size=(3, 3), stride=(1, 1), padding=(1, 1), bias=False)\n",
              "      (bn2): BatchNorm2d(512, eps=1e-05, momentum=0.1, affine=True, track_running_stats=True)\n",
              "    )\n",
              "  )\n",
              "  (avgpool): AdaptiveAvgPool2d(output_size=(1, 1))\n",
              "  (fc): Linear(in_features=512, out_features=1000, bias=True)\n",
              ")"
            ]
          },
          "metadata": {
            "tags": []
          },
          "execution_count": 78
        }
      ]
    },
    {
      "cell_type": "code",
      "metadata": {
        "id": "5l2AIqYhRFSg",
        "colab_type": "code",
        "outputId": "7ebb6b46-93c4-43f0-b137-ae6e80be97c8",
        "colab": {
          "base_uri": "https://localhost:8080/",
          "height": 53
        }
      },
      "source": [
        "in_fc = model.fc.in_features\n",
        "out_fc = len(classes)\n",
        "print(in_fc)\n",
        "print(out_fc)"
      ],
      "execution_count": 0,
      "outputs": [
        {
          "output_type": "stream",
          "text": [
            "512\n",
            "2\n"
          ],
          "name": "stdout"
        }
      ]
    },
    {
      "cell_type": "code",
      "metadata": {
        "id": "aXCMF6k9yCwN",
        "colab_type": "code",
        "outputId": "a5e5b42a-71b7-45c3-fcaa-784ec45d1a7f",
        "colab": {
          "base_uri": "https://localhost:8080/",
          "height": 1000
        }
      },
      "source": [
        "model.fc = nn.Linear(in_fc, out_fc)\n",
        "model"
      ],
      "execution_count": 0,
      "outputs": [
        {
          "output_type": "execute_result",
          "data": {
            "text/plain": [
              "ResNet(\n",
              "  (conv1): Conv2d(3, 64, kernel_size=(7, 7), stride=(2, 2), padding=(3, 3), bias=False)\n",
              "  (bn1): BatchNorm2d(64, eps=1e-05, momentum=0.1, affine=True, track_running_stats=True)\n",
              "  (relu): ReLU(inplace=True)\n",
              "  (maxpool): MaxPool2d(kernel_size=3, stride=2, padding=1, dilation=1, ceil_mode=False)\n",
              "  (layer1): Sequential(\n",
              "    (0): BasicBlock(\n",
              "      (conv1): Conv2d(64, 64, kernel_size=(3, 3), stride=(1, 1), padding=(1, 1), bias=False)\n",
              "      (bn1): BatchNorm2d(64, eps=1e-05, momentum=0.1, affine=True, track_running_stats=True)\n",
              "      (relu): ReLU(inplace=True)\n",
              "      (conv2): Conv2d(64, 64, kernel_size=(3, 3), stride=(1, 1), padding=(1, 1), bias=False)\n",
              "      (bn2): BatchNorm2d(64, eps=1e-05, momentum=0.1, affine=True, track_running_stats=True)\n",
              "    )\n",
              "    (1): BasicBlock(\n",
              "      (conv1): Conv2d(64, 64, kernel_size=(3, 3), stride=(1, 1), padding=(1, 1), bias=False)\n",
              "      (bn1): BatchNorm2d(64, eps=1e-05, momentum=0.1, affine=True, track_running_stats=True)\n",
              "      (relu): ReLU(inplace=True)\n",
              "      (conv2): Conv2d(64, 64, kernel_size=(3, 3), stride=(1, 1), padding=(1, 1), bias=False)\n",
              "      (bn2): BatchNorm2d(64, eps=1e-05, momentum=0.1, affine=True, track_running_stats=True)\n",
              "    )\n",
              "    (2): BasicBlock(\n",
              "      (conv1): Conv2d(64, 64, kernel_size=(3, 3), stride=(1, 1), padding=(1, 1), bias=False)\n",
              "      (bn1): BatchNorm2d(64, eps=1e-05, momentum=0.1, affine=True, track_running_stats=True)\n",
              "      (relu): ReLU(inplace=True)\n",
              "      (conv2): Conv2d(64, 64, kernel_size=(3, 3), stride=(1, 1), padding=(1, 1), bias=False)\n",
              "      (bn2): BatchNorm2d(64, eps=1e-05, momentum=0.1, affine=True, track_running_stats=True)\n",
              "    )\n",
              "  )\n",
              "  (layer2): Sequential(\n",
              "    (0): BasicBlock(\n",
              "      (conv1): Conv2d(64, 128, kernel_size=(3, 3), stride=(2, 2), padding=(1, 1), bias=False)\n",
              "      (bn1): BatchNorm2d(128, eps=1e-05, momentum=0.1, affine=True, track_running_stats=True)\n",
              "      (relu): ReLU(inplace=True)\n",
              "      (conv2): Conv2d(128, 128, kernel_size=(3, 3), stride=(1, 1), padding=(1, 1), bias=False)\n",
              "      (bn2): BatchNorm2d(128, eps=1e-05, momentum=0.1, affine=True, track_running_stats=True)\n",
              "      (downsample): Sequential(\n",
              "        (0): Conv2d(64, 128, kernel_size=(1, 1), stride=(2, 2), bias=False)\n",
              "        (1): BatchNorm2d(128, eps=1e-05, momentum=0.1, affine=True, track_running_stats=True)\n",
              "      )\n",
              "    )\n",
              "    (1): BasicBlock(\n",
              "      (conv1): Conv2d(128, 128, kernel_size=(3, 3), stride=(1, 1), padding=(1, 1), bias=False)\n",
              "      (bn1): BatchNorm2d(128, eps=1e-05, momentum=0.1, affine=True, track_running_stats=True)\n",
              "      (relu): ReLU(inplace=True)\n",
              "      (conv2): Conv2d(128, 128, kernel_size=(3, 3), stride=(1, 1), padding=(1, 1), bias=False)\n",
              "      (bn2): BatchNorm2d(128, eps=1e-05, momentum=0.1, affine=True, track_running_stats=True)\n",
              "    )\n",
              "    (2): BasicBlock(\n",
              "      (conv1): Conv2d(128, 128, kernel_size=(3, 3), stride=(1, 1), padding=(1, 1), bias=False)\n",
              "      (bn1): BatchNorm2d(128, eps=1e-05, momentum=0.1, affine=True, track_running_stats=True)\n",
              "      (relu): ReLU(inplace=True)\n",
              "      (conv2): Conv2d(128, 128, kernel_size=(3, 3), stride=(1, 1), padding=(1, 1), bias=False)\n",
              "      (bn2): BatchNorm2d(128, eps=1e-05, momentum=0.1, affine=True, track_running_stats=True)\n",
              "    )\n",
              "    (3): BasicBlock(\n",
              "      (conv1): Conv2d(128, 128, kernel_size=(3, 3), stride=(1, 1), padding=(1, 1), bias=False)\n",
              "      (bn1): BatchNorm2d(128, eps=1e-05, momentum=0.1, affine=True, track_running_stats=True)\n",
              "      (relu): ReLU(inplace=True)\n",
              "      (conv2): Conv2d(128, 128, kernel_size=(3, 3), stride=(1, 1), padding=(1, 1), bias=False)\n",
              "      (bn2): BatchNorm2d(128, eps=1e-05, momentum=0.1, affine=True, track_running_stats=True)\n",
              "    )\n",
              "  )\n",
              "  (layer3): Sequential(\n",
              "    (0): BasicBlock(\n",
              "      (conv1): Conv2d(128, 256, kernel_size=(3, 3), stride=(2, 2), padding=(1, 1), bias=False)\n",
              "      (bn1): BatchNorm2d(256, eps=1e-05, momentum=0.1, affine=True, track_running_stats=True)\n",
              "      (relu): ReLU(inplace=True)\n",
              "      (conv2): Conv2d(256, 256, kernel_size=(3, 3), stride=(1, 1), padding=(1, 1), bias=False)\n",
              "      (bn2): BatchNorm2d(256, eps=1e-05, momentum=0.1, affine=True, track_running_stats=True)\n",
              "      (downsample): Sequential(\n",
              "        (0): Conv2d(128, 256, kernel_size=(1, 1), stride=(2, 2), bias=False)\n",
              "        (1): BatchNorm2d(256, eps=1e-05, momentum=0.1, affine=True, track_running_stats=True)\n",
              "      )\n",
              "    )\n",
              "    (1): BasicBlock(\n",
              "      (conv1): Conv2d(256, 256, kernel_size=(3, 3), stride=(1, 1), padding=(1, 1), bias=False)\n",
              "      (bn1): BatchNorm2d(256, eps=1e-05, momentum=0.1, affine=True, track_running_stats=True)\n",
              "      (relu): ReLU(inplace=True)\n",
              "      (conv2): Conv2d(256, 256, kernel_size=(3, 3), stride=(1, 1), padding=(1, 1), bias=False)\n",
              "      (bn2): BatchNorm2d(256, eps=1e-05, momentum=0.1, affine=True, track_running_stats=True)\n",
              "    )\n",
              "    (2): BasicBlock(\n",
              "      (conv1): Conv2d(256, 256, kernel_size=(3, 3), stride=(1, 1), padding=(1, 1), bias=False)\n",
              "      (bn1): BatchNorm2d(256, eps=1e-05, momentum=0.1, affine=True, track_running_stats=True)\n",
              "      (relu): ReLU(inplace=True)\n",
              "      (conv2): Conv2d(256, 256, kernel_size=(3, 3), stride=(1, 1), padding=(1, 1), bias=False)\n",
              "      (bn2): BatchNorm2d(256, eps=1e-05, momentum=0.1, affine=True, track_running_stats=True)\n",
              "    )\n",
              "    (3): BasicBlock(\n",
              "      (conv1): Conv2d(256, 256, kernel_size=(3, 3), stride=(1, 1), padding=(1, 1), bias=False)\n",
              "      (bn1): BatchNorm2d(256, eps=1e-05, momentum=0.1, affine=True, track_running_stats=True)\n",
              "      (relu): ReLU(inplace=True)\n",
              "      (conv2): Conv2d(256, 256, kernel_size=(3, 3), stride=(1, 1), padding=(1, 1), bias=False)\n",
              "      (bn2): BatchNorm2d(256, eps=1e-05, momentum=0.1, affine=True, track_running_stats=True)\n",
              "    )\n",
              "    (4): BasicBlock(\n",
              "      (conv1): Conv2d(256, 256, kernel_size=(3, 3), stride=(1, 1), padding=(1, 1), bias=False)\n",
              "      (bn1): BatchNorm2d(256, eps=1e-05, momentum=0.1, affine=True, track_running_stats=True)\n",
              "      (relu): ReLU(inplace=True)\n",
              "      (conv2): Conv2d(256, 256, kernel_size=(3, 3), stride=(1, 1), padding=(1, 1), bias=False)\n",
              "      (bn2): BatchNorm2d(256, eps=1e-05, momentum=0.1, affine=True, track_running_stats=True)\n",
              "    )\n",
              "    (5): BasicBlock(\n",
              "      (conv1): Conv2d(256, 256, kernel_size=(3, 3), stride=(1, 1), padding=(1, 1), bias=False)\n",
              "      (bn1): BatchNorm2d(256, eps=1e-05, momentum=0.1, affine=True, track_running_stats=True)\n",
              "      (relu): ReLU(inplace=True)\n",
              "      (conv2): Conv2d(256, 256, kernel_size=(3, 3), stride=(1, 1), padding=(1, 1), bias=False)\n",
              "      (bn2): BatchNorm2d(256, eps=1e-05, momentum=0.1, affine=True, track_running_stats=True)\n",
              "    )\n",
              "  )\n",
              "  (layer4): Sequential(\n",
              "    (0): BasicBlock(\n",
              "      (conv1): Conv2d(256, 512, kernel_size=(3, 3), stride=(2, 2), padding=(1, 1), bias=False)\n",
              "      (bn1): BatchNorm2d(512, eps=1e-05, momentum=0.1, affine=True, track_running_stats=True)\n",
              "      (relu): ReLU(inplace=True)\n",
              "      (conv2): Conv2d(512, 512, kernel_size=(3, 3), stride=(1, 1), padding=(1, 1), bias=False)\n",
              "      (bn2): BatchNorm2d(512, eps=1e-05, momentum=0.1, affine=True, track_running_stats=True)\n",
              "      (downsample): Sequential(\n",
              "        (0): Conv2d(256, 512, kernel_size=(1, 1), stride=(2, 2), bias=False)\n",
              "        (1): BatchNorm2d(512, eps=1e-05, momentum=0.1, affine=True, track_running_stats=True)\n",
              "      )\n",
              "    )\n",
              "    (1): BasicBlock(\n",
              "      (conv1): Conv2d(512, 512, kernel_size=(3, 3), stride=(1, 1), padding=(1, 1), bias=False)\n",
              "      (bn1): BatchNorm2d(512, eps=1e-05, momentum=0.1, affine=True, track_running_stats=True)\n",
              "      (relu): ReLU(inplace=True)\n",
              "      (conv2): Conv2d(512, 512, kernel_size=(3, 3), stride=(1, 1), padding=(1, 1), bias=False)\n",
              "      (bn2): BatchNorm2d(512, eps=1e-05, momentum=0.1, affine=True, track_running_stats=True)\n",
              "    )\n",
              "    (2): BasicBlock(\n",
              "      (conv1): Conv2d(512, 512, kernel_size=(3, 3), stride=(1, 1), padding=(1, 1), bias=False)\n",
              "      (bn1): BatchNorm2d(512, eps=1e-05, momentum=0.1, affine=True, track_running_stats=True)\n",
              "      (relu): ReLU(inplace=True)\n",
              "      (conv2): Conv2d(512, 512, kernel_size=(3, 3), stride=(1, 1), padding=(1, 1), bias=False)\n",
              "      (bn2): BatchNorm2d(512, eps=1e-05, momentum=0.1, affine=True, track_running_stats=True)\n",
              "    )\n",
              "  )\n",
              "  (avgpool): AdaptiveAvgPool2d(output_size=(1, 1))\n",
              "  (fc): Linear(in_features=512, out_features=2, bias=True)\n",
              ")"
            ]
          },
          "metadata": {
            "tags": []
          },
          "execution_count": 80
        }
      ]
    },
    {
      "cell_type": "code",
      "metadata": {
        "id": "Hag8yUOERnBJ",
        "colab_type": "code",
        "colab": {}
      },
      "source": [
        "model = model.to(device)"
      ],
      "execution_count": 0,
      "outputs": []
    },
    {
      "cell_type": "code",
      "metadata": {
        "id": "8W3VcVCeRvin",
        "colab_type": "code",
        "outputId": "888be4cc-88d5-44b7-b45b-0ca004448a42",
        "colab": {
          "base_uri": "https://localhost:8080/",
          "height": 53
        }
      },
      "source": [
        "a = torch.rand(1, 3, 224, 224).to(device)\n",
        "out = model(a)\n",
        "print(out.shape)\n",
        "print(out)"
      ],
      "execution_count": 0,
      "outputs": [
        {
          "output_type": "stream",
          "text": [
            "torch.Size([1, 2])\n",
            "tensor([[-0.6048, -0.2401]], device='cuda:0', grad_fn=<AddmmBackward>)\n"
          ],
          "name": "stdout"
        }
      ]
    },
    {
      "cell_type": "code",
      "metadata": {
        "id": "4O4rxgVZR021",
        "colab_type": "code",
        "colab": {}
      },
      "source": [
        "criterion = nn.CrossEntropyLoss().to(device)\n",
        "optimizer = optim.Adam(model.parameters(), lr=3e-6)"
      ],
      "execution_count": 0,
      "outputs": []
    },
    {
      "cell_type": "code",
      "metadata": {
        "id": "fQGEgoo2SS1p",
        "colab_type": "code",
        "outputId": "dbd50dc3-4f7e-4262-ab67-2cf765839c23",
        "colab": {
          "base_uri": "https://localhost:8080/",
          "height": 109
        }
      },
      "source": [
        "!pip install tensorboardcolab\n",
        "from tensorboardcolab import TensorBoardColab\n",
        "tb = TensorBoardColab()"
      ],
      "execution_count": 0,
      "outputs": [
        {
          "output_type": "stream",
          "text": [
            "Requirement already satisfied: tensorboardcolab in /usr/local/lib/python3.6/dist-packages (0.0.22)\n",
            "Wait for 8 seconds...\n",
            "TensorBoard link:\n",
            "https://c31a5291.ngrok.io\n"
          ],
          "name": "stdout"
        }
      ]
    },
    {
      "cell_type": "code",
      "metadata": {
        "id": "kpZ_a1cKSbyb",
        "colab_type": "code",
        "colab": {}
      },
      "source": [
        "def train(model, train_loader, optimizer, epoch):\n",
        "    model.train()\n",
        "    for batch_idx, (data, target) in enumerate(train_loader):\n",
        "      data, target = data.to(device), target.to(device)\n",
        "      optimizer.zero_grad()\n",
        "      output = model(data)\n",
        "      loss = criterion(output, target)\n",
        "      loss.backward()\n",
        "      optimizer.step()\n",
        "\n",
        "      if batch_idx % 500 == 0:\n",
        "        print('Train Epoch: {} [{}/{} ({:.0f}%)]\\tLoss: {:.6f}'.format(\n",
        "            epoch, batch_idx * len(data), len(train_loader.dataset),\n",
        "            100. * batch_idx / len(train_loader), loss.item()))\n",
        "            \n",
        "    return loss.item()"
      ],
      "execution_count": 0,
      "outputs": []
    },
    {
      "cell_type": "code",
      "metadata": {
        "id": "INw9IagtSf3N",
        "colab_type": "code",
        "colab": {}
      },
      "source": [
        "def evaluate(model, test_loader):\n",
        "    model.eval()\n",
        "    test_loss = 0\n",
        "    correct = 0\n",
        "    with torch.no_grad():\n",
        "        for data, target in test_loader:\n",
        "          data, target = data.to(device), target.to(device)\n",
        "          output = model(data)\n",
        "\n",
        "          # 배치 오차를 합산\n",
        "          test_loss += criterion(output, target).item()\n",
        "\n",
        "          # 가장 높은 값을 가진 인덱스가 바로 예측값\n",
        "          pred = output.max(1, keepdim=True)[1]\n",
        "          correct += pred.eq(target.view_as(pred)).sum().item()\n",
        "\n",
        "    test_loss /= len(test_loader.dataset)\n",
        "    test_accuracy = 100. * correct / len(test_loader.dataset)\n",
        "\n",
        "    return test_loss, test_accuracy"
      ],
      "execution_count": 0,
      "outputs": []
    },
    {
      "cell_type": "code",
      "metadata": {
        "id": "VNuyIDbzSkq4",
        "colab_type": "code",
        "outputId": "1ad42326-5b4f-452d-a010-253de061985f",
        "colab": {
          "base_uri": "https://localhost:8080/",
          "height": 1000
        }
      },
      "source": [
        "hist_epoch =[]\n",
        "hist_train_loss = []\n",
        "hist_test_loss = []\n",
        "hist_test_acc = []\n",
        "globaliter = 0\n",
        "for epoch in range(1, epochs + 1):\n",
        "  globaliter += 1\n",
        "  loss = train(model, trainloader, optimizer, epoch)\n",
        "  test_loss, test_accuracy = evaluate(model, testloader)\n",
        "    \n",
        "  hist_epoch.append(epoch)\n",
        "  hist_train_loss.append(loss)\n",
        "  hist_test_loss.append(test_loss)\n",
        "  hist_test_acc.append(test_accuracy)\n",
        "\n",
        "# tb.save_value('Train Loss', 'train_loss', 'test_loss', 'test_acc', globaliter, loss, test_loss, test_accuracy)\n",
        "  tb.save_value('MURA_Loss',  'train_loss', globaliter, loss)\n",
        "  tb.save_value('MURA_Loss',  'test_loss', globaliter, test_loss)\n",
        "  tb.save_value('MURA_Acc',  'test_acc', globaliter, test_accuracy)\n",
        "\n",
        "  print('[{}] Test Loss: {:.4f}, Accuracy: {:.2f}%'.format(epoch, test_loss, test_accuracy))"
      ],
      "execution_count": 0,
      "outputs": [
        {
          "output_type": "stream",
          "text": [
            "Train Epoch: 1 [0/36808 (0%)]\tLoss: 0.731780\n",
            "Train Epoch: 1 [500/36808 (1%)]\tLoss: 0.565671\n",
            "Train Epoch: 1 [1000/36808 (3%)]\tLoss: 0.852813\n",
            "Train Epoch: 1 [1500/36808 (4%)]\tLoss: 0.763729\n",
            "Train Epoch: 1 [2000/36808 (5%)]\tLoss: 1.328415\n",
            "Train Epoch: 1 [2500/36808 (7%)]\tLoss: 0.514471\n",
            "Train Epoch: 1 [3000/36808 (8%)]\tLoss: 0.445304\n",
            "Train Epoch: 1 [3500/36808 (10%)]\tLoss: 0.822124\n",
            "Train Epoch: 1 [4000/36808 (11%)]\tLoss: 0.197726\n",
            "Train Epoch: 1 [4500/36808 (12%)]\tLoss: 0.211529\n",
            "Train Epoch: 1 [5000/36808 (14%)]\tLoss: 0.315022\n",
            "Train Epoch: 1 [5500/36808 (15%)]\tLoss: 0.421705\n",
            "Train Epoch: 1 [6000/36808 (16%)]\tLoss: 0.399218\n",
            "Train Epoch: 1 [6500/36808 (18%)]\tLoss: 0.849028\n",
            "Train Epoch: 1 [7000/36808 (19%)]\tLoss: 0.543710\n",
            "Train Epoch: 1 [7500/36808 (20%)]\tLoss: 0.217937\n",
            "Train Epoch: 1 [8000/36808 (22%)]\tLoss: 0.837272\n",
            "Train Epoch: 1 [8500/36808 (23%)]\tLoss: 1.246378\n",
            "Train Epoch: 1 [9000/36808 (24%)]\tLoss: 1.159759\n",
            "Train Epoch: 1 [9500/36808 (26%)]\tLoss: 0.510396\n",
            "Train Epoch: 1 [10000/36808 (27%)]\tLoss: 0.630148\n",
            "Train Epoch: 1 [10500/36808 (29%)]\tLoss: 0.652913\n",
            "Train Epoch: 1 [11000/36808 (30%)]\tLoss: 0.233097\n",
            "Train Epoch: 1 [11500/36808 (31%)]\tLoss: 1.599843\n",
            "Train Epoch: 1 [12000/36808 (33%)]\tLoss: 0.427412\n",
            "Train Epoch: 1 [12500/36808 (34%)]\tLoss: 0.815478\n",
            "Train Epoch: 1 [13000/36808 (35%)]\tLoss: 0.883761\n",
            "Train Epoch: 1 [13500/36808 (37%)]\tLoss: 0.377706\n",
            "Train Epoch: 1 [14000/36808 (38%)]\tLoss: 0.898226\n",
            "Train Epoch: 1 [14500/36808 (39%)]\tLoss: 0.272443\n",
            "Train Epoch: 1 [15000/36808 (41%)]\tLoss: 1.671374\n",
            "Train Epoch: 1 [15500/36808 (42%)]\tLoss: 0.258957\n",
            "Train Epoch: 1 [16000/36808 (43%)]\tLoss: 0.313713\n",
            "Train Epoch: 1 [16500/36808 (45%)]\tLoss: 0.278679\n",
            "Train Epoch: 1 [17000/36808 (46%)]\tLoss: 0.120520\n",
            "Train Epoch: 1 [17500/36808 (48%)]\tLoss: 1.327594\n",
            "Train Epoch: 1 [18000/36808 (49%)]\tLoss: 0.679566\n",
            "Train Epoch: 1 [18500/36808 (50%)]\tLoss: 0.408617\n",
            "Train Epoch: 1 [19000/36808 (52%)]\tLoss: 0.560280\n",
            "Train Epoch: 1 [19500/36808 (53%)]\tLoss: 0.938635\n",
            "Train Epoch: 1 [20000/36808 (54%)]\tLoss: 0.525525\n",
            "Train Epoch: 1 [20500/36808 (56%)]\tLoss: 0.537187\n",
            "Train Epoch: 1 [21000/36808 (57%)]\tLoss: 0.890401\n",
            "Train Epoch: 1 [21500/36808 (58%)]\tLoss: 0.470397\n",
            "Train Epoch: 1 [22000/36808 (60%)]\tLoss: 1.278163\n",
            "Train Epoch: 1 [22500/36808 (61%)]\tLoss: 0.320025\n",
            "Train Epoch: 1 [23000/36808 (62%)]\tLoss: 0.472330\n",
            "Train Epoch: 1 [23500/36808 (64%)]\tLoss: 1.834912\n",
            "Train Epoch: 1 [24000/36808 (65%)]\tLoss: 0.732850\n",
            "Train Epoch: 1 [24500/36808 (67%)]\tLoss: 1.035291\n",
            "Train Epoch: 1 [25000/36808 (68%)]\tLoss: 0.656421\n",
            "Train Epoch: 1 [25500/36808 (69%)]\tLoss: 0.923535\n",
            "Train Epoch: 1 [26000/36808 (71%)]\tLoss: 0.229175\n",
            "Train Epoch: 1 [26500/36808 (72%)]\tLoss: 0.759262\n",
            "Train Epoch: 1 [27000/36808 (73%)]\tLoss: 0.432842\n",
            "Train Epoch: 1 [27500/36808 (75%)]\tLoss: 1.214022\n",
            "Train Epoch: 1 [28000/36808 (76%)]\tLoss: 0.294168\n",
            "Train Epoch: 1 [28500/36808 (77%)]\tLoss: 0.611550\n",
            "Train Epoch: 1 [29000/36808 (79%)]\tLoss: 0.669309\n",
            "Train Epoch: 1 [29500/36808 (80%)]\tLoss: 0.517449\n",
            "Train Epoch: 1 [30000/36808 (82%)]\tLoss: 1.286812\n",
            "Train Epoch: 1 [30500/36808 (83%)]\tLoss: 1.136287\n",
            "Train Epoch: 1 [31000/36808 (84%)]\tLoss: 1.186083\n",
            "Train Epoch: 1 [31500/36808 (86%)]\tLoss: 0.888574\n",
            "Train Epoch: 1 [32000/36808 (87%)]\tLoss: 0.432249\n",
            "Train Epoch: 1 [32500/36808 (88%)]\tLoss: 0.619799\n",
            "Train Epoch: 1 [33000/36808 (90%)]\tLoss: 0.514232\n",
            "Train Epoch: 1 [33500/36808 (91%)]\tLoss: 0.761485\n",
            "Train Epoch: 1 [34000/36808 (92%)]\tLoss: 0.390654\n",
            "Train Epoch: 1 [34500/36808 (94%)]\tLoss: 0.974380\n",
            "Train Epoch: 1 [35000/36808 (95%)]\tLoss: 0.710177\n",
            "Train Epoch: 1 [35500/36808 (96%)]\tLoss: 1.588744\n",
            "Train Epoch: 1 [36000/36808 (98%)]\tLoss: 0.709879\n",
            "Train Epoch: 1 [36500/36808 (99%)]\tLoss: 0.944227\n",
            "[1] Test Loss: 18.7216, Accuracy: 55.74%\n",
            "Train Epoch: 2 [0/36808 (0%)]\tLoss: 0.329929\n",
            "Train Epoch: 2 [500/36808 (1%)]\tLoss: 0.554913\n",
            "Train Epoch: 2 [1000/36808 (3%)]\tLoss: 0.555302\n",
            "Train Epoch: 2 [1500/36808 (4%)]\tLoss: 0.139521\n",
            "Train Epoch: 2 [2000/36808 (5%)]\tLoss: 0.908517\n",
            "Train Epoch: 2 [2500/36808 (7%)]\tLoss: 0.196951\n",
            "Train Epoch: 2 [3000/36808 (8%)]\tLoss: 0.438954\n",
            "Train Epoch: 2 [3500/36808 (10%)]\tLoss: 0.555765\n",
            "Train Epoch: 2 [4000/36808 (11%)]\tLoss: 0.473512\n",
            "Train Epoch: 2 [4500/36808 (12%)]\tLoss: 0.300809\n",
            "Train Epoch: 2 [5000/36808 (14%)]\tLoss: 0.253024\n",
            "Train Epoch: 2 [5500/36808 (15%)]\tLoss: 0.943779\n",
            "Train Epoch: 2 [6000/36808 (16%)]\tLoss: 1.012084\n",
            "Train Epoch: 2 [6500/36808 (18%)]\tLoss: 0.097424\n",
            "Train Epoch: 2 [7000/36808 (19%)]\tLoss: 0.435527\n",
            "Train Epoch: 2 [7500/36808 (20%)]\tLoss: 0.430856\n",
            "Train Epoch: 2 [8000/36808 (22%)]\tLoss: 0.553119\n",
            "Train Epoch: 2 [8500/36808 (23%)]\tLoss: 0.670098\n",
            "Train Epoch: 2 [9000/36808 (24%)]\tLoss: 0.721395\n",
            "Train Epoch: 2 [9500/36808 (26%)]\tLoss: 0.813360\n",
            "Train Epoch: 2 [10000/36808 (27%)]\tLoss: 0.384879\n",
            "Train Epoch: 2 [10500/36808 (29%)]\tLoss: 0.639607\n",
            "Train Epoch: 2 [11000/36808 (30%)]\tLoss: 0.423804\n",
            "Train Epoch: 2 [11500/36808 (31%)]\tLoss: 0.222333\n",
            "Train Epoch: 2 [12000/36808 (33%)]\tLoss: 0.330424\n",
            "Train Epoch: 2 [12500/36808 (34%)]\tLoss: 0.268512\n",
            "Train Epoch: 2 [13000/36808 (35%)]\tLoss: 0.736579\n",
            "Train Epoch: 2 [13500/36808 (37%)]\tLoss: 0.952035\n",
            "Train Epoch: 2 [14000/36808 (38%)]\tLoss: 1.015756\n",
            "Train Epoch: 2 [14500/36808 (39%)]\tLoss: 0.270297\n",
            "Train Epoch: 2 [15000/36808 (41%)]\tLoss: 1.093767\n",
            "Train Epoch: 2 [15500/36808 (42%)]\tLoss: 0.938173\n",
            "Train Epoch: 2 [16000/36808 (43%)]\tLoss: 0.133303\n",
            "Train Epoch: 2 [16500/36808 (45%)]\tLoss: 0.517208\n",
            "Train Epoch: 2 [17000/36808 (46%)]\tLoss: 0.459829\n",
            "Train Epoch: 2 [17500/36808 (48%)]\tLoss: 0.277411\n",
            "Train Epoch: 2 [18000/36808 (49%)]\tLoss: 0.498341\n",
            "Train Epoch: 2 [18500/36808 (50%)]\tLoss: 0.156586\n",
            "Train Epoch: 2 [19000/36808 (52%)]\tLoss: 0.201770\n",
            "Train Epoch: 2 [19500/36808 (53%)]\tLoss: 0.608072\n",
            "Train Epoch: 2 [20000/36808 (54%)]\tLoss: 2.060599\n",
            "Train Epoch: 2 [20500/36808 (56%)]\tLoss: 0.188159\n",
            "Train Epoch: 2 [21000/36808 (57%)]\tLoss: 0.642626\n",
            "Train Epoch: 2 [21500/36808 (58%)]\tLoss: 0.228518\n",
            "Train Epoch: 2 [22000/36808 (60%)]\tLoss: 0.301238\n",
            "Train Epoch: 2 [22500/36808 (61%)]\tLoss: 0.567354\n",
            "Train Epoch: 2 [23000/36808 (62%)]\tLoss: 0.546926\n",
            "Train Epoch: 2 [23500/36808 (64%)]\tLoss: 0.219969\n",
            "Train Epoch: 2 [24000/36808 (65%)]\tLoss: 1.478558\n",
            "Train Epoch: 2 [24500/36808 (67%)]\tLoss: 0.426362\n",
            "Train Epoch: 2 [25000/36808 (68%)]\tLoss: 0.620250\n",
            "Train Epoch: 2 [25500/36808 (69%)]\tLoss: 0.866772\n",
            "Train Epoch: 2 [26000/36808 (71%)]\tLoss: 0.445672\n",
            "Train Epoch: 2 [26500/36808 (72%)]\tLoss: 0.137712\n",
            "Train Epoch: 2 [27000/36808 (73%)]\tLoss: 0.305233\n",
            "Train Epoch: 2 [27500/36808 (75%)]\tLoss: 0.625123\n",
            "Train Epoch: 2 [28000/36808 (76%)]\tLoss: 0.595344\n",
            "Train Epoch: 2 [28500/36808 (77%)]\tLoss: 0.865345\n",
            "Train Epoch: 2 [29000/36808 (79%)]\tLoss: 0.746975\n",
            "Train Epoch: 2 [29500/36808 (80%)]\tLoss: 0.677024\n",
            "Train Epoch: 2 [30000/36808 (82%)]\tLoss: 0.602983\n",
            "Train Epoch: 2 [30500/36808 (83%)]\tLoss: 0.690203\n",
            "Train Epoch: 2 [31000/36808 (84%)]\tLoss: 0.246568\n",
            "Train Epoch: 2 [31500/36808 (86%)]\tLoss: 0.731145\n",
            "Train Epoch: 2 [32000/36808 (87%)]\tLoss: 1.549394\n",
            "Train Epoch: 2 [32500/36808 (88%)]\tLoss: 0.369477\n",
            "Train Epoch: 2 [33000/36808 (90%)]\tLoss: 0.435683\n",
            "Train Epoch: 2 [33500/36808 (91%)]\tLoss: 0.675935\n",
            "Train Epoch: 2 [34000/36808 (92%)]\tLoss: 0.164476\n",
            "Train Epoch: 2 [34500/36808 (94%)]\tLoss: 1.136631\n",
            "Train Epoch: 2 [35000/36808 (95%)]\tLoss: 0.331911\n",
            "Train Epoch: 2 [35500/36808 (96%)]\tLoss: 0.466346\n",
            "Train Epoch: 2 [36000/36808 (98%)]\tLoss: 0.388969\n",
            "Train Epoch: 2 [36500/36808 (99%)]\tLoss: 0.871323\n",
            "[2] Test Loss: 9.7349, Accuracy: 55.55%\n",
            "Train Epoch: 3 [0/36808 (0%)]\tLoss: 0.841493\n",
            "Train Epoch: 3 [500/36808 (1%)]\tLoss: 0.366193\n",
            "Train Epoch: 3 [1000/36808 (3%)]\tLoss: 0.729735\n",
            "Train Epoch: 3 [1500/36808 (4%)]\tLoss: 0.310179\n",
            "Train Epoch: 3 [2000/36808 (5%)]\tLoss: 1.089593\n",
            "Train Epoch: 3 [2500/36808 (7%)]\tLoss: 0.330542\n",
            "Train Epoch: 3 [3000/36808 (8%)]\tLoss: 1.826357\n",
            "Train Epoch: 3 [3500/36808 (10%)]\tLoss: 0.804674\n",
            "Train Epoch: 3 [4000/36808 (11%)]\tLoss: 0.757105\n",
            "Train Epoch: 3 [4500/36808 (12%)]\tLoss: 0.598309\n",
            "Train Epoch: 3 [5000/36808 (14%)]\tLoss: 0.169190\n",
            "Train Epoch: 3 [5500/36808 (15%)]\tLoss: 0.781376\n",
            "Train Epoch: 3 [6000/36808 (16%)]\tLoss: 0.450140\n",
            "Train Epoch: 3 [6500/36808 (18%)]\tLoss: 0.459081\n",
            "Train Epoch: 3 [7000/36808 (19%)]\tLoss: 0.922037\n",
            "Train Epoch: 3 [7500/36808 (20%)]\tLoss: 0.380313\n",
            "Train Epoch: 3 [8000/36808 (22%)]\tLoss: 1.086246\n",
            "Train Epoch: 3 [8500/36808 (23%)]\tLoss: 0.224878\n",
            "Train Epoch: 3 [9000/36808 (24%)]\tLoss: 0.476045\n",
            "Train Epoch: 3 [9500/36808 (26%)]\tLoss: 0.854194\n",
            "Train Epoch: 3 [10000/36808 (27%)]\tLoss: 0.645090\n",
            "Train Epoch: 3 [10500/36808 (29%)]\tLoss: 0.205868\n",
            "Train Epoch: 3 [11000/36808 (30%)]\tLoss: 0.435445\n",
            "Train Epoch: 3 [11500/36808 (31%)]\tLoss: 0.570815\n",
            "Train Epoch: 3 [12000/36808 (33%)]\tLoss: 0.195402\n",
            "Train Epoch: 3 [12500/36808 (34%)]\tLoss: 0.283674\n",
            "Train Epoch: 3 [13000/36808 (35%)]\tLoss: 1.201983\n",
            "Train Epoch: 3 [13500/36808 (37%)]\tLoss: 0.945593\n",
            "Train Epoch: 3 [14000/36808 (38%)]\tLoss: 0.287691\n",
            "Train Epoch: 3 [14500/36808 (39%)]\tLoss: 1.102802\n",
            "Train Epoch: 3 [15000/36808 (41%)]\tLoss: 0.245667\n",
            "Train Epoch: 3 [15500/36808 (42%)]\tLoss: 0.340661\n",
            "Train Epoch: 3 [16000/36808 (43%)]\tLoss: 0.285156\n",
            "Train Epoch: 3 [16500/36808 (45%)]\tLoss: 2.631768\n",
            "Train Epoch: 3 [17000/36808 (46%)]\tLoss: 0.615580\n",
            "Train Epoch: 3 [17500/36808 (48%)]\tLoss: 0.152348\n",
            "Train Epoch: 3 [18000/36808 (49%)]\tLoss: 1.139927\n",
            "Train Epoch: 3 [18500/36808 (50%)]\tLoss: 0.722244\n",
            "Train Epoch: 3 [19000/36808 (52%)]\tLoss: 0.247014\n",
            "Train Epoch: 3 [19500/36808 (53%)]\tLoss: 1.025119\n",
            "Train Epoch: 3 [20000/36808 (54%)]\tLoss: 0.565247\n",
            "Train Epoch: 3 [20500/36808 (56%)]\tLoss: 0.841160\n",
            "Train Epoch: 3 [21000/36808 (57%)]\tLoss: 0.541867\n",
            "Train Epoch: 3 [21500/36808 (58%)]\tLoss: 0.862296\n",
            "Train Epoch: 3 [22000/36808 (60%)]\tLoss: 0.187512\n",
            "Train Epoch: 3 [22500/36808 (61%)]\tLoss: 1.147332\n",
            "Train Epoch: 3 [23000/36808 (62%)]\tLoss: 0.708690\n",
            "Train Epoch: 3 [23500/36808 (64%)]\tLoss: 0.611228\n",
            "Train Epoch: 3 [24000/36808 (65%)]\tLoss: 0.411598\n",
            "Train Epoch: 3 [24500/36808 (67%)]\tLoss: 0.446262\n",
            "Train Epoch: 3 [25000/36808 (68%)]\tLoss: 1.222268\n",
            "Train Epoch: 3 [25500/36808 (69%)]\tLoss: 0.239129\n",
            "Train Epoch: 3 [26000/36808 (71%)]\tLoss: 0.193432\n",
            "Train Epoch: 3 [26500/36808 (72%)]\tLoss: 0.178329\n",
            "Train Epoch: 3 [27000/36808 (73%)]\tLoss: 0.945904\n",
            "Train Epoch: 3 [27500/36808 (75%)]\tLoss: 1.201297\n",
            "Train Epoch: 3 [28000/36808 (76%)]\tLoss: 0.318507\n",
            "Train Epoch: 3 [28500/36808 (77%)]\tLoss: 0.323094\n",
            "Train Epoch: 3 [29000/36808 (79%)]\tLoss: 0.664291\n",
            "Train Epoch: 3 [29500/36808 (80%)]\tLoss: 0.486771\n",
            "Train Epoch: 3 [30000/36808 (82%)]\tLoss: 1.263567\n",
            "Train Epoch: 3 [30500/36808 (83%)]\tLoss: 0.386640\n",
            "Train Epoch: 3 [31000/36808 (84%)]\tLoss: 0.319200\n",
            "Train Epoch: 3 [31500/36808 (86%)]\tLoss: 1.034540\n",
            "Train Epoch: 3 [32000/36808 (87%)]\tLoss: 0.729130\n",
            "Train Epoch: 3 [32500/36808 (88%)]\tLoss: 0.272161\n",
            "Train Epoch: 3 [33000/36808 (90%)]\tLoss: 1.008935\n",
            "Train Epoch: 3 [33500/36808 (91%)]\tLoss: 1.186046\n",
            "Train Epoch: 3 [34000/36808 (92%)]\tLoss: 0.171200\n",
            "Train Epoch: 3 [34500/36808 (94%)]\tLoss: 0.359795\n",
            "Train Epoch: 3 [35000/36808 (95%)]\tLoss: 0.894917\n",
            "Train Epoch: 3 [35500/36808 (96%)]\tLoss: 0.215079\n",
            "Train Epoch: 3 [36000/36808 (98%)]\tLoss: 0.231425\n",
            "Train Epoch: 3 [36500/36808 (99%)]\tLoss: 0.901483\n",
            "[3] Test Loss: 12.7658, Accuracy: 55.83%\n",
            "Train Epoch: 4 [0/36808 (0%)]\tLoss: 0.482913\n",
            "Train Epoch: 4 [500/36808 (1%)]\tLoss: 0.217856\n",
            "Train Epoch: 4 [1000/36808 (3%)]\tLoss: 0.500345\n",
            "Train Epoch: 4 [1500/36808 (4%)]\tLoss: 0.454511\n",
            "Train Epoch: 4 [2000/36808 (5%)]\tLoss: 0.820409\n",
            "Train Epoch: 4 [2500/36808 (7%)]\tLoss: 0.305563\n",
            "Train Epoch: 4 [3000/36808 (8%)]\tLoss: 0.345040\n",
            "Train Epoch: 4 [3500/36808 (10%)]\tLoss: 0.675620\n",
            "Train Epoch: 4 [4000/36808 (11%)]\tLoss: 0.434472\n",
            "Train Epoch: 4 [4500/36808 (12%)]\tLoss: 1.360232\n",
            "Train Epoch: 4 [5000/36808 (14%)]\tLoss: 0.465614\n",
            "Train Epoch: 4 [5500/36808 (15%)]\tLoss: 0.147871\n",
            "Train Epoch: 4 [6000/36808 (16%)]\tLoss: 0.355202\n",
            "Train Epoch: 4 [6500/36808 (18%)]\tLoss: 0.403833\n",
            "Train Epoch: 4 [7000/36808 (19%)]\tLoss: 0.789891\n",
            "Train Epoch: 4 [7500/36808 (20%)]\tLoss: 0.823254\n",
            "Train Epoch: 4 [8000/36808 (22%)]\tLoss: 0.876839\n",
            "Train Epoch: 4 [8500/36808 (23%)]\tLoss: 0.747745\n",
            "Train Epoch: 4 [9000/36808 (24%)]\tLoss: 0.255486\n",
            "Train Epoch: 4 [9500/36808 (26%)]\tLoss: 0.372886\n",
            "Train Epoch: 4 [10000/36808 (27%)]\tLoss: 1.296591\n",
            "Train Epoch: 4 [10500/36808 (29%)]\tLoss: 0.133132\n",
            "Train Epoch: 4 [11000/36808 (30%)]\tLoss: 0.647870\n",
            "Train Epoch: 4 [11500/36808 (31%)]\tLoss: 0.406943\n",
            "Train Epoch: 4 [12000/36808 (33%)]\tLoss: 0.226775\n",
            "Train Epoch: 4 [12500/36808 (34%)]\tLoss: 0.504649\n",
            "Train Epoch: 4 [13000/36808 (35%)]\tLoss: 0.533321\n",
            "Train Epoch: 4 [13500/36808 (37%)]\tLoss: 0.374638\n",
            "Train Epoch: 4 [14000/36808 (38%)]\tLoss: 0.571958\n",
            "Train Epoch: 4 [14500/36808 (39%)]\tLoss: 0.459713\n",
            "Train Epoch: 4 [15000/36808 (41%)]\tLoss: 0.239251\n",
            "Train Epoch: 4 [15500/36808 (42%)]\tLoss: 0.888894\n",
            "Train Epoch: 4 [16000/36808 (43%)]\tLoss: 0.344484\n",
            "Train Epoch: 4 [16500/36808 (45%)]\tLoss: 0.285851\n",
            "Train Epoch: 4 [17000/36808 (46%)]\tLoss: 0.218040\n",
            "Train Epoch: 4 [17500/36808 (48%)]\tLoss: 0.402098\n",
            "Train Epoch: 4 [18000/36808 (49%)]\tLoss: 0.102734\n",
            "Train Epoch: 4 [18500/36808 (50%)]\tLoss: 0.412895\n",
            "Train Epoch: 4 [19000/36808 (52%)]\tLoss: 0.176338\n",
            "Train Epoch: 4 [19500/36808 (53%)]\tLoss: 0.826693\n",
            "Train Epoch: 4 [20000/36808 (54%)]\tLoss: 1.742648\n",
            "Train Epoch: 4 [20500/36808 (56%)]\tLoss: 0.683154\n",
            "Train Epoch: 4 [21000/36808 (57%)]\tLoss: 0.500027\n",
            "Train Epoch: 4 [21500/36808 (58%)]\tLoss: 0.661176\n",
            "Train Epoch: 4 [22000/36808 (60%)]\tLoss: 0.499672\n",
            "Train Epoch: 4 [22500/36808 (61%)]\tLoss: 0.214396\n",
            "Train Epoch: 4 [23000/36808 (62%)]\tLoss: 0.140935\n",
            "Train Epoch: 4 [23500/36808 (64%)]\tLoss: 0.897408\n",
            "Train Epoch: 4 [24000/36808 (65%)]\tLoss: 0.825202\n",
            "Train Epoch: 4 [24500/36808 (67%)]\tLoss: 0.702157\n",
            "Train Epoch: 4 [25000/36808 (68%)]\tLoss: 0.260516\n",
            "Train Epoch: 4 [25500/36808 (69%)]\tLoss: 0.248157\n",
            "Train Epoch: 4 [26000/36808 (71%)]\tLoss: 0.206588\n",
            "Train Epoch: 4 [26500/36808 (72%)]\tLoss: 1.146527\n",
            "Train Epoch: 4 [27000/36808 (73%)]\tLoss: 0.767568\n",
            "Train Epoch: 4 [27500/36808 (75%)]\tLoss: 0.479746\n",
            "Train Epoch: 4 [28000/36808 (76%)]\tLoss: 0.921702\n",
            "Train Epoch: 4 [28500/36808 (77%)]\tLoss: 0.791898\n",
            "Train Epoch: 4 [29000/36808 (79%)]\tLoss: 0.911372\n",
            "Train Epoch: 4 [29500/36808 (80%)]\tLoss: 0.228481\n",
            "Train Epoch: 4 [30000/36808 (82%)]\tLoss: 0.406623\n",
            "Train Epoch: 4 [30500/36808 (83%)]\tLoss: 0.278109\n",
            "Train Epoch: 4 [31000/36808 (84%)]\tLoss: 0.377335\n",
            "Train Epoch: 4 [31500/36808 (86%)]\tLoss: 0.694846\n",
            "Train Epoch: 4 [32000/36808 (87%)]\tLoss: 0.451914\n",
            "Train Epoch: 4 [32500/36808 (88%)]\tLoss: 0.115526\n",
            "Train Epoch: 4 [33000/36808 (90%)]\tLoss: 0.825994\n",
            "Train Epoch: 4 [33500/36808 (91%)]\tLoss: 0.382065\n",
            "Train Epoch: 4 [34000/36808 (92%)]\tLoss: 0.555137\n",
            "Train Epoch: 4 [34500/36808 (94%)]\tLoss: 0.066062\n",
            "Train Epoch: 4 [35000/36808 (95%)]\tLoss: 0.840184\n",
            "Train Epoch: 4 [35500/36808 (96%)]\tLoss: 0.194523\n",
            "Train Epoch: 4 [36000/36808 (98%)]\tLoss: 0.776032\n",
            "Train Epoch: 4 [36500/36808 (99%)]\tLoss: 0.514028\n",
            "[4] Test Loss: 6.3466, Accuracy: 55.21%\n",
            "Train Epoch: 5 [0/36808 (0%)]\tLoss: 0.531524\n",
            "Train Epoch: 5 [500/36808 (1%)]\tLoss: 0.774387\n",
            "Train Epoch: 5 [1000/36808 (3%)]\tLoss: 0.262166\n",
            "Train Epoch: 5 [1500/36808 (4%)]\tLoss: 0.295674\n",
            "Train Epoch: 5 [2000/36808 (5%)]\tLoss: 0.595107\n",
            "Train Epoch: 5 [2500/36808 (7%)]\tLoss: 0.713625\n",
            "Train Epoch: 5 [3000/36808 (8%)]\tLoss: 0.364858\n",
            "Train Epoch: 5 [3500/36808 (10%)]\tLoss: 0.224331\n",
            "Train Epoch: 5 [4000/36808 (11%)]\tLoss: 0.867141\n",
            "Train Epoch: 5 [4500/36808 (12%)]\tLoss: 0.954827\n",
            "Train Epoch: 5 [5000/36808 (14%)]\tLoss: 0.474085\n",
            "Train Epoch: 5 [5500/36808 (15%)]\tLoss: 0.188178\n",
            "Train Epoch: 5 [6000/36808 (16%)]\tLoss: 1.329746\n",
            "Train Epoch: 5 [6500/36808 (18%)]\tLoss: 1.240215\n",
            "Train Epoch: 5 [7000/36808 (19%)]\tLoss: 0.595652\n",
            "Train Epoch: 5 [7500/36808 (20%)]\tLoss: 0.414178\n",
            "Train Epoch: 5 [8000/36808 (22%)]\tLoss: 0.885128\n",
            "Train Epoch: 5 [8500/36808 (23%)]\tLoss: 1.857085\n",
            "Train Epoch: 5 [9000/36808 (24%)]\tLoss: 1.141092\n",
            "Train Epoch: 5 [9500/36808 (26%)]\tLoss: 0.554574\n",
            "Train Epoch: 5 [10000/36808 (27%)]\tLoss: 0.823728\n",
            "Train Epoch: 5 [10500/36808 (29%)]\tLoss: 0.294721\n",
            "Train Epoch: 5 [11000/36808 (30%)]\tLoss: 0.158079\n",
            "Train Epoch: 5 [11500/36808 (31%)]\tLoss: 0.343670\n",
            "Train Epoch: 5 [12000/36808 (33%)]\tLoss: 0.631549\n",
            "Train Epoch: 5 [12500/36808 (34%)]\tLoss: 0.910391\n",
            "Train Epoch: 5 [13000/36808 (35%)]\tLoss: 0.465137\n",
            "Train Epoch: 5 [13500/36808 (37%)]\tLoss: 1.076963\n",
            "Train Epoch: 5 [14000/36808 (38%)]\tLoss: 0.258815\n",
            "Train Epoch: 5 [14500/36808 (39%)]\tLoss: 0.828792\n",
            "Train Epoch: 5 [15000/36808 (41%)]\tLoss: 0.278333\n",
            "Train Epoch: 5 [15500/36808 (42%)]\tLoss: 0.174174\n",
            "Train Epoch: 5 [16000/36808 (43%)]\tLoss: 0.538220\n",
            "Train Epoch: 5 [16500/36808 (45%)]\tLoss: 0.675748\n",
            "Train Epoch: 5 [17000/36808 (46%)]\tLoss: 0.239708\n",
            "Train Epoch: 5 [17500/36808 (48%)]\tLoss: 1.188187\n",
            "Train Epoch: 5 [18000/36808 (49%)]\tLoss: 0.397096\n",
            "Train Epoch: 5 [18500/36808 (50%)]\tLoss: 0.477445\n",
            "Train Epoch: 5 [19000/36808 (52%)]\tLoss: 0.383085\n",
            "Train Epoch: 5 [19500/36808 (53%)]\tLoss: 0.276959\n",
            "Train Epoch: 5 [20000/36808 (54%)]\tLoss: 0.179119\n",
            "Train Epoch: 5 [20500/36808 (56%)]\tLoss: 0.181695\n",
            "Train Epoch: 5 [21000/36808 (57%)]\tLoss: 0.110380\n",
            "Train Epoch: 5 [21500/36808 (58%)]\tLoss: 0.259988\n",
            "Train Epoch: 5 [22000/36808 (60%)]\tLoss: 0.986263\n",
            "Train Epoch: 5 [22500/36808 (61%)]\tLoss: 0.731364\n",
            "Train Epoch: 5 [23000/36808 (62%)]\tLoss: 0.270212\n",
            "Train Epoch: 5 [23500/36808 (64%)]\tLoss: 0.121116\n",
            "Train Epoch: 5 [24000/36808 (65%)]\tLoss: 1.470522\n",
            "Train Epoch: 5 [24500/36808 (67%)]\tLoss: 0.379314\n",
            "Train Epoch: 5 [25000/36808 (68%)]\tLoss: 1.063627\n",
            "Train Epoch: 5 [25500/36808 (69%)]\tLoss: 0.112241\n",
            "Train Epoch: 5 [26000/36808 (71%)]\tLoss: 0.765530\n",
            "Train Epoch: 5 [26500/36808 (72%)]\tLoss: 0.706032\n",
            "Train Epoch: 5 [27000/36808 (73%)]\tLoss: 1.175059\n",
            "Train Epoch: 5 [27500/36808 (75%)]\tLoss: 0.259869\n",
            "Train Epoch: 5 [28000/36808 (76%)]\tLoss: 0.457140\n",
            "Train Epoch: 5 [28500/36808 (77%)]\tLoss: 0.217892\n",
            "Train Epoch: 5 [29000/36808 (79%)]\tLoss: 0.618227\n",
            "Train Epoch: 5 [29500/36808 (80%)]\tLoss: 1.005555\n",
            "Train Epoch: 5 [30000/36808 (82%)]\tLoss: 0.847183\n",
            "Train Epoch: 5 [30500/36808 (83%)]\tLoss: 0.248397\n",
            "Train Epoch: 5 [31000/36808 (84%)]\tLoss: 0.518389\n",
            "Train Epoch: 5 [31500/36808 (86%)]\tLoss: 0.373694\n",
            "Train Epoch: 5 [32000/36808 (87%)]\tLoss: 0.119088\n",
            "Train Epoch: 5 [32500/36808 (88%)]\tLoss: 0.577398\n",
            "Train Epoch: 5 [33000/36808 (90%)]\tLoss: 1.162557\n",
            "Train Epoch: 5 [33500/36808 (91%)]\tLoss: 0.686480\n",
            "Train Epoch: 5 [34000/36808 (92%)]\tLoss: 0.618415\n",
            "Train Epoch: 5 [34500/36808 (94%)]\tLoss: 0.689922\n",
            "Train Epoch: 5 [35000/36808 (95%)]\tLoss: 0.379119\n",
            "Train Epoch: 5 [35500/36808 (96%)]\tLoss: 0.274261\n",
            "Train Epoch: 5 [36000/36808 (98%)]\tLoss: 0.176467\n",
            "Train Epoch: 5 [36500/36808 (99%)]\tLoss: 0.244722\n",
            "[5] Test Loss: 17.8173, Accuracy: 55.40%\n"
          ],
          "name": "stdout"
        }
      ]
    },
    {
      "cell_type": "code",
      "metadata": {
        "id": "dP37uHX0qiq6",
        "colab_type": "code",
        "outputId": "80bae0e6-433a-47c6-919d-d6680ca9dc83",
        "colab": {
          "base_uri": "https://localhost:8080/",
          "height": 279
        }
      },
      "source": [
        "plt.plot(hist_epoch, hist_train_loss )\n",
        "plt.xlabel('Train Steps')\n",
        "plt.ylabel('Training Loss')\n",
        "plt.show()"
      ],
      "execution_count": 0,
      "outputs": [
        {
          "output_type": "display_data",
          "data": {
            "image/png": "[encoded data removed]",
            "text/plain": [
              "<Figure size 432x288 with 1 Axes>"
            ]
          },
          "metadata": {
            "tags": []
          }
        }
      ]
    },
    {
      "cell_type": "code",
      "metadata": {
        "id": "XOlEAWBss0WA",
        "colab_type": "code",
        "outputId": "90428dbd-1006-4c37-dd48-fd4c3cab5444",
        "colab": {
          "base_uri": "https://localhost:8080/",
          "height": 279
        }
      },
      "source": [
        "plt.plot(hist_epoch, hist_test_loss )\n",
        "plt.xlabel('Train Steps')\n",
        "plt.ylabel('Test Loss')\n",
        "plt.show()"
      ],
      "execution_count": 0,
      "outputs": [
        {
          "output_type": "display_data",
          "data": {
            "image/png": "[encoded data removed]",
            "text/plain": [
              "<Figure size 432x288 with 1 Axes>"
            ]
          },
          "metadata": {
            "tags": []
          }
        }
      ]
    },
    {
      "cell_type": "code",
      "metadata": {
        "id": "4Ypv5_69s63f",
        "colab_type": "code",
        "outputId": "ebe63eae-c3d1-444c-b98f-f8cf19139edd",
        "colab": {
          "base_uri": "https://localhost:8080/",
          "height": 279
        }
      },
      "source": [
        "plt.plot(hist_epoch, hist_test_acc)\n",
        "plt.xlabel('Train Steps')\n",
        "plt.ylabel('Test Accuracy')\n",
        "plt.show()"
      ],
      "execution_count": 0,
      "outputs": [
        {
          "output_type": "display_data",
          "data": {
            "image/png": "[encoded data removed]",
            "text/plain": [
              "<Figure size 432x288 with 1 Axes>"
            ]
          },
          "metadata": {
            "tags": []
          }
        }
      ]
    },
    {
      "cell_type": "code",
      "metadata": {
        "id": "ilzf4Gxrs-38",
        "colab_type": "code",
        "colab": {}
      },
      "source": [
        ""
      ],
      "execution_count": 0,
      "outputs": []
    }
  ]
}